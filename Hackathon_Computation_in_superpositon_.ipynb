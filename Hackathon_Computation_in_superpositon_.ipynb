{
  "nbformat": 4,
  "nbformat_minor": 0,
  "metadata": {
    "colab": {
      "provenance": [],
      "gpuType": "T4"
    },
    "kernelspec": {
      "name": "python3",
      "display_name": "Python 3"
    },
    "language_info": {
      "name": "python"
    },
    "accelerator": "GPU",
    "widgets": {
      "application/vnd.jupyter.widget-state+json": {
        "2622f78652734a3eaf7979749cc89635": {
          "model_module": "@jupyter-widgets/controls",
          "model_name": "HBoxModel",
          "model_module_version": "1.5.0",
          "state": {
            "_dom_classes": [],
            "_model_module": "@jupyter-widgets/controls",
            "_model_module_version": "1.5.0",
            "_model_name": "HBoxModel",
            "_view_count": null,
            "_view_module": "@jupyter-widgets/controls",
            "_view_module_version": "1.5.0",
            "_view_name": "HBoxView",
            "box_style": "",
            "children": [
              "IPY_MODEL_7d5a7e9781b24a50b260bb265bec6f93",
              "IPY_MODEL_344ca83d360546cd96d48bb7579ff946",
              "IPY_MODEL_da93ce6557c043158d01ddac6ae2b310"
            ],
            "layout": "IPY_MODEL_301fafa9c7084ece9ed571392d7784f0"
          }
        },
        "7d5a7e9781b24a50b260bb265bec6f93": {
          "model_module": "@jupyter-widgets/controls",
          "model_name": "HTMLModel",
          "model_module_version": "1.5.0",
          "state": {
            "_dom_classes": [],
            "_model_module": "@jupyter-widgets/controls",
            "_model_module_version": "1.5.0",
            "_model_name": "HTMLModel",
            "_view_count": null,
            "_view_module": "@jupyter-widgets/controls",
            "_view_module_version": "1.5.0",
            "_view_name": "HTMLView",
            "description": "",
            "description_tooltip": null,
            "layout": "IPY_MODEL_0f9a57503b544ad0bed7809fc40bdf85",
            "placeholder": "​",
            "style": "IPY_MODEL_589c28d06cb24f89a789af72f3728a49",
            "value": "100%"
          }
        },
        "344ca83d360546cd96d48bb7579ff946": {
          "model_module": "@jupyter-widgets/controls",
          "model_name": "FloatProgressModel",
          "model_module_version": "1.5.0",
          "state": {
            "_dom_classes": [],
            "_model_module": "@jupyter-widgets/controls",
            "_model_module_version": "1.5.0",
            "_model_name": "FloatProgressModel",
            "_view_count": null,
            "_view_module": "@jupyter-widgets/controls",
            "_view_module_version": "1.5.0",
            "_view_name": "ProgressView",
            "bar_style": "success",
            "description": "",
            "description_tooltip": null,
            "layout": "IPY_MODEL_1404989ae34249919fe3261bef28293b",
            "max": 10000,
            "min": 0,
            "orientation": "horizontal",
            "style": "IPY_MODEL_c8a1c0e5107e4da4a8bce9fd7d3b04f3",
            "value": 10000
          }
        },
        "da93ce6557c043158d01ddac6ae2b310": {
          "model_module": "@jupyter-widgets/controls",
          "model_name": "HTMLModel",
          "model_module_version": "1.5.0",
          "state": {
            "_dom_classes": [],
            "_model_module": "@jupyter-widgets/controls",
            "_model_module_version": "1.5.0",
            "_model_name": "HTMLModel",
            "_view_count": null,
            "_view_module": "@jupyter-widgets/controls",
            "_view_module_version": "1.5.0",
            "_view_name": "HTMLView",
            "description": "",
            "description_tooltip": null,
            "layout": "IPY_MODEL_ae6c90dc315d442781584fe80004e53f",
            "placeholder": "​",
            "style": "IPY_MODEL_6d991c00ebb24397bf7dc58777e65587",
            "value": " 10000/10000 [00:21&lt;00:00, 337.46it/s, loss=0.0515, lr=0.001]"
          }
        },
        "301fafa9c7084ece9ed571392d7784f0": {
          "model_module": "@jupyter-widgets/base",
          "model_name": "LayoutModel",
          "model_module_version": "1.2.0",
          "state": {
            "_model_module": "@jupyter-widgets/base",
            "_model_module_version": "1.2.0",
            "_model_name": "LayoutModel",
            "_view_count": null,
            "_view_module": "@jupyter-widgets/base",
            "_view_module_version": "1.2.0",
            "_view_name": "LayoutView",
            "align_content": null,
            "align_items": null,
            "align_self": null,
            "border": null,
            "bottom": null,
            "display": null,
            "flex": null,
            "flex_flow": null,
            "grid_area": null,
            "grid_auto_columns": null,
            "grid_auto_flow": null,
            "grid_auto_rows": null,
            "grid_column": null,
            "grid_gap": null,
            "grid_row": null,
            "grid_template_areas": null,
            "grid_template_columns": null,
            "grid_template_rows": null,
            "height": null,
            "justify_content": null,
            "justify_items": null,
            "left": null,
            "margin": null,
            "max_height": null,
            "max_width": null,
            "min_height": null,
            "min_width": null,
            "object_fit": null,
            "object_position": null,
            "order": null,
            "overflow": null,
            "overflow_x": null,
            "overflow_y": null,
            "padding": null,
            "right": null,
            "top": null,
            "visibility": null,
            "width": null
          }
        },
        "0f9a57503b544ad0bed7809fc40bdf85": {
          "model_module": "@jupyter-widgets/base",
          "model_name": "LayoutModel",
          "model_module_version": "1.2.0",
          "state": {
            "_model_module": "@jupyter-widgets/base",
            "_model_module_version": "1.2.0",
            "_model_name": "LayoutModel",
            "_view_count": null,
            "_view_module": "@jupyter-widgets/base",
            "_view_module_version": "1.2.0",
            "_view_name": "LayoutView",
            "align_content": null,
            "align_items": null,
            "align_self": null,
            "border": null,
            "bottom": null,
            "display": null,
            "flex": null,
            "flex_flow": null,
            "grid_area": null,
            "grid_auto_columns": null,
            "grid_auto_flow": null,
            "grid_auto_rows": null,
            "grid_column": null,
            "grid_gap": null,
            "grid_row": null,
            "grid_template_areas": null,
            "grid_template_columns": null,
            "grid_template_rows": null,
            "height": null,
            "justify_content": null,
            "justify_items": null,
            "left": null,
            "margin": null,
            "max_height": null,
            "max_width": null,
            "min_height": null,
            "min_width": null,
            "object_fit": null,
            "object_position": null,
            "order": null,
            "overflow": null,
            "overflow_x": null,
            "overflow_y": null,
            "padding": null,
            "right": null,
            "top": null,
            "visibility": null,
            "width": null
          }
        },
        "589c28d06cb24f89a789af72f3728a49": {
          "model_module": "@jupyter-widgets/controls",
          "model_name": "DescriptionStyleModel",
          "model_module_version": "1.5.0",
          "state": {
            "_model_module": "@jupyter-widgets/controls",
            "_model_module_version": "1.5.0",
            "_model_name": "DescriptionStyleModel",
            "_view_count": null,
            "_view_module": "@jupyter-widgets/base",
            "_view_module_version": "1.2.0",
            "_view_name": "StyleView",
            "description_width": ""
          }
        },
        "1404989ae34249919fe3261bef28293b": {
          "model_module": "@jupyter-widgets/base",
          "model_name": "LayoutModel",
          "model_module_version": "1.2.0",
          "state": {
            "_model_module": "@jupyter-widgets/base",
            "_model_module_version": "1.2.0",
            "_model_name": "LayoutModel",
            "_view_count": null,
            "_view_module": "@jupyter-widgets/base",
            "_view_module_version": "1.2.0",
            "_view_name": "LayoutView",
            "align_content": null,
            "align_items": null,
            "align_self": null,
            "border": null,
            "bottom": null,
            "display": null,
            "flex": null,
            "flex_flow": null,
            "grid_area": null,
            "grid_auto_columns": null,
            "grid_auto_flow": null,
            "grid_auto_rows": null,
            "grid_column": null,
            "grid_gap": null,
            "grid_row": null,
            "grid_template_areas": null,
            "grid_template_columns": null,
            "grid_template_rows": null,
            "height": null,
            "justify_content": null,
            "justify_items": null,
            "left": null,
            "margin": null,
            "max_height": null,
            "max_width": null,
            "min_height": null,
            "min_width": null,
            "object_fit": null,
            "object_position": null,
            "order": null,
            "overflow": null,
            "overflow_x": null,
            "overflow_y": null,
            "padding": null,
            "right": null,
            "top": null,
            "visibility": null,
            "width": null
          }
        },
        "c8a1c0e5107e4da4a8bce9fd7d3b04f3": {
          "model_module": "@jupyter-widgets/controls",
          "model_name": "ProgressStyleModel",
          "model_module_version": "1.5.0",
          "state": {
            "_model_module": "@jupyter-widgets/controls",
            "_model_module_version": "1.5.0",
            "_model_name": "ProgressStyleModel",
            "_view_count": null,
            "_view_module": "@jupyter-widgets/base",
            "_view_module_version": "1.2.0",
            "_view_name": "StyleView",
            "bar_color": null,
            "description_width": ""
          }
        },
        "ae6c90dc315d442781584fe80004e53f": {
          "model_module": "@jupyter-widgets/base",
          "model_name": "LayoutModel",
          "model_module_version": "1.2.0",
          "state": {
            "_model_module": "@jupyter-widgets/base",
            "_model_module_version": "1.2.0",
            "_model_name": "LayoutModel",
            "_view_count": null,
            "_view_module": "@jupyter-widgets/base",
            "_view_module_version": "1.2.0",
            "_view_name": "LayoutView",
            "align_content": null,
            "align_items": null,
            "align_self": null,
            "border": null,
            "bottom": null,
            "display": null,
            "flex": null,
            "flex_flow": null,
            "grid_area": null,
            "grid_auto_columns": null,
            "grid_auto_flow": null,
            "grid_auto_rows": null,
            "grid_column": null,
            "grid_gap": null,
            "grid_row": null,
            "grid_template_areas": null,
            "grid_template_columns": null,
            "grid_template_rows": null,
            "height": null,
            "justify_content": null,
            "justify_items": null,
            "left": null,
            "margin": null,
            "max_height": null,
            "max_width": null,
            "min_height": null,
            "min_width": null,
            "object_fit": null,
            "object_position": null,
            "order": null,
            "overflow": null,
            "overflow_x": null,
            "overflow_y": null,
            "padding": null,
            "right": null,
            "top": null,
            "visibility": null,
            "width": null
          }
        },
        "6d991c00ebb24397bf7dc58777e65587": {
          "model_module": "@jupyter-widgets/controls",
          "model_name": "DescriptionStyleModel",
          "model_module_version": "1.5.0",
          "state": {
            "_model_module": "@jupyter-widgets/controls",
            "_model_module_version": "1.5.0",
            "_model_name": "DescriptionStyleModel",
            "_view_count": null,
            "_view_module": "@jupyter-widgets/base",
            "_view_module_version": "1.2.0",
            "_view_name": "StyleView",
            "description_width": ""
          }
        },
        "27923f778200467f965022266f80c854": {
          "model_module": "@jupyter-widgets/controls",
          "model_name": "HBoxModel",
          "model_module_version": "1.5.0",
          "state": {
            "_dom_classes": [],
            "_model_module": "@jupyter-widgets/controls",
            "_model_module_version": "1.5.0",
            "_model_name": "HBoxModel",
            "_view_count": null,
            "_view_module": "@jupyter-widgets/controls",
            "_view_module_version": "1.5.0",
            "_view_name": "HBoxView",
            "box_style": "",
            "children": [
              "IPY_MODEL_cba7194c7d5d4886925376eddd710d45",
              "IPY_MODEL_2e41b22e4adb4291a235c403a5ec2512",
              "IPY_MODEL_7893ec58c9cd48dfbfd1eb4f07db0b17"
            ],
            "layout": "IPY_MODEL_e1b71f286b20463bb4212b431c645171"
          }
        },
        "cba7194c7d5d4886925376eddd710d45": {
          "model_module": "@jupyter-widgets/controls",
          "model_name": "HTMLModel",
          "model_module_version": "1.5.0",
          "state": {
            "_dom_classes": [],
            "_model_module": "@jupyter-widgets/controls",
            "_model_module_version": "1.5.0",
            "_model_name": "HTMLModel",
            "_view_count": null,
            "_view_module": "@jupyter-widgets/controls",
            "_view_module_version": "1.5.0",
            "_view_name": "HTMLView",
            "description": "",
            "description_tooltip": null,
            "layout": "IPY_MODEL_b02d5450b2cf48f49abc031aab938462",
            "placeholder": "​",
            "style": "IPY_MODEL_b66123b173a14d959482f36c2d6eef5c",
            "value": "100%"
          }
        },
        "2e41b22e4adb4291a235c403a5ec2512": {
          "model_module": "@jupyter-widgets/controls",
          "model_name": "FloatProgressModel",
          "model_module_version": "1.5.0",
          "state": {
            "_dom_classes": [],
            "_model_module": "@jupyter-widgets/controls",
            "_model_module_version": "1.5.0",
            "_model_name": "FloatProgressModel",
            "_view_count": null,
            "_view_module": "@jupyter-widgets/controls",
            "_view_module_version": "1.5.0",
            "_view_name": "ProgressView",
            "bar_style": "success",
            "description": "",
            "description_tooltip": null,
            "layout": "IPY_MODEL_7b91e9cdcfbf48d98109d283f2f13130",
            "max": 10000,
            "min": 0,
            "orientation": "horizontal",
            "style": "IPY_MODEL_a48e5b50a0484801896e73252bc038e4",
            "value": 10000
          }
        },
        "7893ec58c9cd48dfbfd1eb4f07db0b17": {
          "model_module": "@jupyter-widgets/controls",
          "model_name": "HTMLModel",
          "model_module_version": "1.5.0",
          "state": {
            "_dom_classes": [],
            "_model_module": "@jupyter-widgets/controls",
            "_model_module_version": "1.5.0",
            "_model_name": "HTMLModel",
            "_view_count": null,
            "_view_module": "@jupyter-widgets/controls",
            "_view_module_version": "1.5.0",
            "_view_name": "HTMLView",
            "description": "",
            "description_tooltip": null,
            "layout": "IPY_MODEL_ffec539e77194015b147eecc5aba5bac",
            "placeholder": "​",
            "style": "IPY_MODEL_ab91451bad524c839023c285c2659752",
            "value": " 10000/10000 [00:24&lt;00:00, 409.15it/s, loss=0.00041, lr=0.001]"
          }
        },
        "e1b71f286b20463bb4212b431c645171": {
          "model_module": "@jupyter-widgets/base",
          "model_name": "LayoutModel",
          "model_module_version": "1.2.0",
          "state": {
            "_model_module": "@jupyter-widgets/base",
            "_model_module_version": "1.2.0",
            "_model_name": "LayoutModel",
            "_view_count": null,
            "_view_module": "@jupyter-widgets/base",
            "_view_module_version": "1.2.0",
            "_view_name": "LayoutView",
            "align_content": null,
            "align_items": null,
            "align_self": null,
            "border": null,
            "bottom": null,
            "display": null,
            "flex": null,
            "flex_flow": null,
            "grid_area": null,
            "grid_auto_columns": null,
            "grid_auto_flow": null,
            "grid_auto_rows": null,
            "grid_column": null,
            "grid_gap": null,
            "grid_row": null,
            "grid_template_areas": null,
            "grid_template_columns": null,
            "grid_template_rows": null,
            "height": null,
            "justify_content": null,
            "justify_items": null,
            "left": null,
            "margin": null,
            "max_height": null,
            "max_width": null,
            "min_height": null,
            "min_width": null,
            "object_fit": null,
            "object_position": null,
            "order": null,
            "overflow": null,
            "overflow_x": null,
            "overflow_y": null,
            "padding": null,
            "right": null,
            "top": null,
            "visibility": null,
            "width": null
          }
        },
        "b02d5450b2cf48f49abc031aab938462": {
          "model_module": "@jupyter-widgets/base",
          "model_name": "LayoutModel",
          "model_module_version": "1.2.0",
          "state": {
            "_model_module": "@jupyter-widgets/base",
            "_model_module_version": "1.2.0",
            "_model_name": "LayoutModel",
            "_view_count": null,
            "_view_module": "@jupyter-widgets/base",
            "_view_module_version": "1.2.0",
            "_view_name": "LayoutView",
            "align_content": null,
            "align_items": null,
            "align_self": null,
            "border": null,
            "bottom": null,
            "display": null,
            "flex": null,
            "flex_flow": null,
            "grid_area": null,
            "grid_auto_columns": null,
            "grid_auto_flow": null,
            "grid_auto_rows": null,
            "grid_column": null,
            "grid_gap": null,
            "grid_row": null,
            "grid_template_areas": null,
            "grid_template_columns": null,
            "grid_template_rows": null,
            "height": null,
            "justify_content": null,
            "justify_items": null,
            "left": null,
            "margin": null,
            "max_height": null,
            "max_width": null,
            "min_height": null,
            "min_width": null,
            "object_fit": null,
            "object_position": null,
            "order": null,
            "overflow": null,
            "overflow_x": null,
            "overflow_y": null,
            "padding": null,
            "right": null,
            "top": null,
            "visibility": null,
            "width": null
          }
        },
        "b66123b173a14d959482f36c2d6eef5c": {
          "model_module": "@jupyter-widgets/controls",
          "model_name": "DescriptionStyleModel",
          "model_module_version": "1.5.0",
          "state": {
            "_model_module": "@jupyter-widgets/controls",
            "_model_module_version": "1.5.0",
            "_model_name": "DescriptionStyleModel",
            "_view_count": null,
            "_view_module": "@jupyter-widgets/base",
            "_view_module_version": "1.2.0",
            "_view_name": "StyleView",
            "description_width": ""
          }
        },
        "7b91e9cdcfbf48d98109d283f2f13130": {
          "model_module": "@jupyter-widgets/base",
          "model_name": "LayoutModel",
          "model_module_version": "1.2.0",
          "state": {
            "_model_module": "@jupyter-widgets/base",
            "_model_module_version": "1.2.0",
            "_model_name": "LayoutModel",
            "_view_count": null,
            "_view_module": "@jupyter-widgets/base",
            "_view_module_version": "1.2.0",
            "_view_name": "LayoutView",
            "align_content": null,
            "align_items": null,
            "align_self": null,
            "border": null,
            "bottom": null,
            "display": null,
            "flex": null,
            "flex_flow": null,
            "grid_area": null,
            "grid_auto_columns": null,
            "grid_auto_flow": null,
            "grid_auto_rows": null,
            "grid_column": null,
            "grid_gap": null,
            "grid_row": null,
            "grid_template_areas": null,
            "grid_template_columns": null,
            "grid_template_rows": null,
            "height": null,
            "justify_content": null,
            "justify_items": null,
            "left": null,
            "margin": null,
            "max_height": null,
            "max_width": null,
            "min_height": null,
            "min_width": null,
            "object_fit": null,
            "object_position": null,
            "order": null,
            "overflow": null,
            "overflow_x": null,
            "overflow_y": null,
            "padding": null,
            "right": null,
            "top": null,
            "visibility": null,
            "width": null
          }
        },
        "a48e5b50a0484801896e73252bc038e4": {
          "model_module": "@jupyter-widgets/controls",
          "model_name": "ProgressStyleModel",
          "model_module_version": "1.5.0",
          "state": {
            "_model_module": "@jupyter-widgets/controls",
            "_model_module_version": "1.5.0",
            "_model_name": "ProgressStyleModel",
            "_view_count": null,
            "_view_module": "@jupyter-widgets/base",
            "_view_module_version": "1.2.0",
            "_view_name": "StyleView",
            "bar_color": null,
            "description_width": ""
          }
        },
        "ffec539e77194015b147eecc5aba5bac": {
          "model_module": "@jupyter-widgets/base",
          "model_name": "LayoutModel",
          "model_module_version": "1.2.0",
          "state": {
            "_model_module": "@jupyter-widgets/base",
            "_model_module_version": "1.2.0",
            "_model_name": "LayoutModel",
            "_view_count": null,
            "_view_module": "@jupyter-widgets/base",
            "_view_module_version": "1.2.0",
            "_view_name": "LayoutView",
            "align_content": null,
            "align_items": null,
            "align_self": null,
            "border": null,
            "bottom": null,
            "display": null,
            "flex": null,
            "flex_flow": null,
            "grid_area": null,
            "grid_auto_columns": null,
            "grid_auto_flow": null,
            "grid_auto_rows": null,
            "grid_column": null,
            "grid_gap": null,
            "grid_row": null,
            "grid_template_areas": null,
            "grid_template_columns": null,
            "grid_template_rows": null,
            "height": null,
            "justify_content": null,
            "justify_items": null,
            "left": null,
            "margin": null,
            "max_height": null,
            "max_width": null,
            "min_height": null,
            "min_width": null,
            "object_fit": null,
            "object_position": null,
            "order": null,
            "overflow": null,
            "overflow_x": null,
            "overflow_y": null,
            "padding": null,
            "right": null,
            "top": null,
            "visibility": null,
            "width": null
          }
        },
        "ab91451bad524c839023c285c2659752": {
          "model_module": "@jupyter-widgets/controls",
          "model_name": "DescriptionStyleModel",
          "model_module_version": "1.5.0",
          "state": {
            "_model_module": "@jupyter-widgets/controls",
            "_model_module_version": "1.5.0",
            "_model_name": "DescriptionStyleModel",
            "_view_count": null,
            "_view_module": "@jupyter-widgets/base",
            "_view_module_version": "1.2.0",
            "_view_name": "StyleView",
            "description_width": ""
          }
        },
        "48eb498f83204f189fa86673cb400b1e": {
          "model_module": "@jupyter-widgets/controls",
          "model_name": "HBoxModel",
          "model_module_version": "1.5.0",
          "state": {
            "_dom_classes": [],
            "_model_module": "@jupyter-widgets/controls",
            "_model_module_version": "1.5.0",
            "_model_name": "HBoxModel",
            "_view_count": null,
            "_view_module": "@jupyter-widgets/controls",
            "_view_module_version": "1.5.0",
            "_view_name": "HBoxView",
            "box_style": "",
            "children": [
              "IPY_MODEL_4ae1a79cd0b948eeb4475a3df7d21e45",
              "IPY_MODEL_bddc5414745644edb92dc85afd77c22f",
              "IPY_MODEL_b354eeaba07d41379c2eac20a2339228"
            ],
            "layout": "IPY_MODEL_e689074a07aa480b877bf0d80ab53bb0"
          }
        },
        "4ae1a79cd0b948eeb4475a3df7d21e45": {
          "model_module": "@jupyter-widgets/controls",
          "model_name": "HTMLModel",
          "model_module_version": "1.5.0",
          "state": {
            "_dom_classes": [],
            "_model_module": "@jupyter-widgets/controls",
            "_model_module_version": "1.5.0",
            "_model_name": "HTMLModel",
            "_view_count": null,
            "_view_module": "@jupyter-widgets/controls",
            "_view_module_version": "1.5.0",
            "_view_name": "HTMLView",
            "description": "",
            "description_tooltip": null,
            "layout": "IPY_MODEL_dc9e3ffdcf6a496d870c0c26ab687636",
            "placeholder": "​",
            "style": "IPY_MODEL_682a5b75fbdb4d79a251d44a16af56eb",
            "value": "100%"
          }
        },
        "bddc5414745644edb92dc85afd77c22f": {
          "model_module": "@jupyter-widgets/controls",
          "model_name": "FloatProgressModel",
          "model_module_version": "1.5.0",
          "state": {
            "_dom_classes": [],
            "_model_module": "@jupyter-widgets/controls",
            "_model_module_version": "1.5.0",
            "_model_name": "FloatProgressModel",
            "_view_count": null,
            "_view_module": "@jupyter-widgets/controls",
            "_view_module_version": "1.5.0",
            "_view_name": "ProgressView",
            "bar_style": "success",
            "description": "",
            "description_tooltip": null,
            "layout": "IPY_MODEL_fd7dcb3a2f2346e69e11b1bf8feae536",
            "max": 10000,
            "min": 0,
            "orientation": "horizontal",
            "style": "IPY_MODEL_305ebbac443841aca47d7e7f0376d105",
            "value": 10000
          }
        },
        "b354eeaba07d41379c2eac20a2339228": {
          "model_module": "@jupyter-widgets/controls",
          "model_name": "HTMLModel",
          "model_module_version": "1.5.0",
          "state": {
            "_dom_classes": [],
            "_model_module": "@jupyter-widgets/controls",
            "_model_module_version": "1.5.0",
            "_model_name": "HTMLModel",
            "_view_count": null,
            "_view_module": "@jupyter-widgets/controls",
            "_view_module_version": "1.5.0",
            "_view_name": "HTMLView",
            "description": "",
            "description_tooltip": null,
            "layout": "IPY_MODEL_adafa86301f845ca82475dfaeca785d5",
            "placeholder": "​",
            "style": "IPY_MODEL_508f54344d0e417fb89fd75d613e004a",
            "value": " 10000/10000 [00:22&lt;00:00, 512.26it/s, loss=0.177, lr=0.001]"
          }
        },
        "e689074a07aa480b877bf0d80ab53bb0": {
          "model_module": "@jupyter-widgets/base",
          "model_name": "LayoutModel",
          "model_module_version": "1.2.0",
          "state": {
            "_model_module": "@jupyter-widgets/base",
            "_model_module_version": "1.2.0",
            "_model_name": "LayoutModel",
            "_view_count": null,
            "_view_module": "@jupyter-widgets/base",
            "_view_module_version": "1.2.0",
            "_view_name": "LayoutView",
            "align_content": null,
            "align_items": null,
            "align_self": null,
            "border": null,
            "bottom": null,
            "display": null,
            "flex": null,
            "flex_flow": null,
            "grid_area": null,
            "grid_auto_columns": null,
            "grid_auto_flow": null,
            "grid_auto_rows": null,
            "grid_column": null,
            "grid_gap": null,
            "grid_row": null,
            "grid_template_areas": null,
            "grid_template_columns": null,
            "grid_template_rows": null,
            "height": null,
            "justify_content": null,
            "justify_items": null,
            "left": null,
            "margin": null,
            "max_height": null,
            "max_width": null,
            "min_height": null,
            "min_width": null,
            "object_fit": null,
            "object_position": null,
            "order": null,
            "overflow": null,
            "overflow_x": null,
            "overflow_y": null,
            "padding": null,
            "right": null,
            "top": null,
            "visibility": null,
            "width": null
          }
        },
        "dc9e3ffdcf6a496d870c0c26ab687636": {
          "model_module": "@jupyter-widgets/base",
          "model_name": "LayoutModel",
          "model_module_version": "1.2.0",
          "state": {
            "_model_module": "@jupyter-widgets/base",
            "_model_module_version": "1.2.0",
            "_model_name": "LayoutModel",
            "_view_count": null,
            "_view_module": "@jupyter-widgets/base",
            "_view_module_version": "1.2.0",
            "_view_name": "LayoutView",
            "align_content": null,
            "align_items": null,
            "align_self": null,
            "border": null,
            "bottom": null,
            "display": null,
            "flex": null,
            "flex_flow": null,
            "grid_area": null,
            "grid_auto_columns": null,
            "grid_auto_flow": null,
            "grid_auto_rows": null,
            "grid_column": null,
            "grid_gap": null,
            "grid_row": null,
            "grid_template_areas": null,
            "grid_template_columns": null,
            "grid_template_rows": null,
            "height": null,
            "justify_content": null,
            "justify_items": null,
            "left": null,
            "margin": null,
            "max_height": null,
            "max_width": null,
            "min_height": null,
            "min_width": null,
            "object_fit": null,
            "object_position": null,
            "order": null,
            "overflow": null,
            "overflow_x": null,
            "overflow_y": null,
            "padding": null,
            "right": null,
            "top": null,
            "visibility": null,
            "width": null
          }
        },
        "682a5b75fbdb4d79a251d44a16af56eb": {
          "model_module": "@jupyter-widgets/controls",
          "model_name": "DescriptionStyleModel",
          "model_module_version": "1.5.0",
          "state": {
            "_model_module": "@jupyter-widgets/controls",
            "_model_module_version": "1.5.0",
            "_model_name": "DescriptionStyleModel",
            "_view_count": null,
            "_view_module": "@jupyter-widgets/base",
            "_view_module_version": "1.2.0",
            "_view_name": "StyleView",
            "description_width": ""
          }
        },
        "fd7dcb3a2f2346e69e11b1bf8feae536": {
          "model_module": "@jupyter-widgets/base",
          "model_name": "LayoutModel",
          "model_module_version": "1.2.0",
          "state": {
            "_model_module": "@jupyter-widgets/base",
            "_model_module_version": "1.2.0",
            "_model_name": "LayoutModel",
            "_view_count": null,
            "_view_module": "@jupyter-widgets/base",
            "_view_module_version": "1.2.0",
            "_view_name": "LayoutView",
            "align_content": null,
            "align_items": null,
            "align_self": null,
            "border": null,
            "bottom": null,
            "display": null,
            "flex": null,
            "flex_flow": null,
            "grid_area": null,
            "grid_auto_columns": null,
            "grid_auto_flow": null,
            "grid_auto_rows": null,
            "grid_column": null,
            "grid_gap": null,
            "grid_row": null,
            "grid_template_areas": null,
            "grid_template_columns": null,
            "grid_template_rows": null,
            "height": null,
            "justify_content": null,
            "justify_items": null,
            "left": null,
            "margin": null,
            "max_height": null,
            "max_width": null,
            "min_height": null,
            "min_width": null,
            "object_fit": null,
            "object_position": null,
            "order": null,
            "overflow": null,
            "overflow_x": null,
            "overflow_y": null,
            "padding": null,
            "right": null,
            "top": null,
            "visibility": null,
            "width": null
          }
        },
        "305ebbac443841aca47d7e7f0376d105": {
          "model_module": "@jupyter-widgets/controls",
          "model_name": "ProgressStyleModel",
          "model_module_version": "1.5.0",
          "state": {
            "_model_module": "@jupyter-widgets/controls",
            "_model_module_version": "1.5.0",
            "_model_name": "ProgressStyleModel",
            "_view_count": null,
            "_view_module": "@jupyter-widgets/base",
            "_view_module_version": "1.2.0",
            "_view_name": "StyleView",
            "bar_color": null,
            "description_width": ""
          }
        },
        "adafa86301f845ca82475dfaeca785d5": {
          "model_module": "@jupyter-widgets/base",
          "model_name": "LayoutModel",
          "model_module_version": "1.2.0",
          "state": {
            "_model_module": "@jupyter-widgets/base",
            "_model_module_version": "1.2.0",
            "_model_name": "LayoutModel",
            "_view_count": null,
            "_view_module": "@jupyter-widgets/base",
            "_view_module_version": "1.2.0",
            "_view_name": "LayoutView",
            "align_content": null,
            "align_items": null,
            "align_self": null,
            "border": null,
            "bottom": null,
            "display": null,
            "flex": null,
            "flex_flow": null,
            "grid_area": null,
            "grid_auto_columns": null,
            "grid_auto_flow": null,
            "grid_auto_rows": null,
            "grid_column": null,
            "grid_gap": null,
            "grid_row": null,
            "grid_template_areas": null,
            "grid_template_columns": null,
            "grid_template_rows": null,
            "height": null,
            "justify_content": null,
            "justify_items": null,
            "left": null,
            "margin": null,
            "max_height": null,
            "max_width": null,
            "min_height": null,
            "min_width": null,
            "object_fit": null,
            "object_position": null,
            "order": null,
            "overflow": null,
            "overflow_x": null,
            "overflow_y": null,
            "padding": null,
            "right": null,
            "top": null,
            "visibility": null,
            "width": null
          }
        },
        "508f54344d0e417fb89fd75d613e004a": {
          "model_module": "@jupyter-widgets/controls",
          "model_name": "DescriptionStyleModel",
          "model_module_version": "1.5.0",
          "state": {
            "_model_module": "@jupyter-widgets/controls",
            "_model_module_version": "1.5.0",
            "_model_name": "DescriptionStyleModel",
            "_view_count": null,
            "_view_module": "@jupyter-widgets/base",
            "_view_module_version": "1.2.0",
            "_view_name": "StyleView",
            "description_width": ""
          }
        },
        "02fe9088fe5b45c8bdf31c14afca9348": {
          "model_module": "@jupyter-widgets/controls",
          "model_name": "HBoxModel",
          "model_module_version": "1.5.0",
          "state": {
            "_dom_classes": [],
            "_model_module": "@jupyter-widgets/controls",
            "_model_module_version": "1.5.0",
            "_model_name": "HBoxModel",
            "_view_count": null,
            "_view_module": "@jupyter-widgets/controls",
            "_view_module_version": "1.5.0",
            "_view_name": "HBoxView",
            "box_style": "",
            "children": [
              "IPY_MODEL_8b171ed662654b7197bb01673946716c",
              "IPY_MODEL_f4bceb76acfb45d9abdfb5f059812761",
              "IPY_MODEL_63a88236edd8490dace0078d7f2e53c1"
            ],
            "layout": "IPY_MODEL_75975e1ef8b24c68834fed1cfdfcf734"
          }
        },
        "8b171ed662654b7197bb01673946716c": {
          "model_module": "@jupyter-widgets/controls",
          "model_name": "HTMLModel",
          "model_module_version": "1.5.0",
          "state": {
            "_dom_classes": [],
            "_model_module": "@jupyter-widgets/controls",
            "_model_module_version": "1.5.0",
            "_model_name": "HTMLModel",
            "_view_count": null,
            "_view_module": "@jupyter-widgets/controls",
            "_view_module_version": "1.5.0",
            "_view_name": "HTMLView",
            "description": "",
            "description_tooltip": null,
            "layout": "IPY_MODEL_0585afaffd784ef9aac824e641576324",
            "placeholder": "​",
            "style": "IPY_MODEL_956cb435394b4f1a83d429e2d803c356",
            "value": "100%"
          }
        },
        "f4bceb76acfb45d9abdfb5f059812761": {
          "model_module": "@jupyter-widgets/controls",
          "model_name": "FloatProgressModel",
          "model_module_version": "1.5.0",
          "state": {
            "_dom_classes": [],
            "_model_module": "@jupyter-widgets/controls",
            "_model_module_version": "1.5.0",
            "_model_name": "FloatProgressModel",
            "_view_count": null,
            "_view_module": "@jupyter-widgets/controls",
            "_view_module_version": "1.5.0",
            "_view_name": "ProgressView",
            "bar_style": "success",
            "description": "",
            "description_tooltip": null,
            "layout": "IPY_MODEL_95679a9d57eb49ab9f9ad58758c85c27",
            "max": 10000,
            "min": 0,
            "orientation": "horizontal",
            "style": "IPY_MODEL_7c484f10554b48219c6fc0d26d5e8477",
            "value": 10000
          }
        },
        "63a88236edd8490dace0078d7f2e53c1": {
          "model_module": "@jupyter-widgets/controls",
          "model_name": "HTMLModel",
          "model_module_version": "1.5.0",
          "state": {
            "_dom_classes": [],
            "_model_module": "@jupyter-widgets/controls",
            "_model_module_version": "1.5.0",
            "_model_name": "HTMLModel",
            "_view_count": null,
            "_view_module": "@jupyter-widgets/controls",
            "_view_module_version": "1.5.0",
            "_view_name": "HTMLView",
            "description": "",
            "description_tooltip": null,
            "layout": "IPY_MODEL_40ab13ac18fd4f68b4cfb039468e2de2",
            "placeholder": "​",
            "style": "IPY_MODEL_5866605c90f24a5086dd370b124cd4fc",
            "value": " 10000/10000 [00:20&lt;00:00, 562.46it/s, loss=0.000592, lr=0.001]"
          }
        },
        "75975e1ef8b24c68834fed1cfdfcf734": {
          "model_module": "@jupyter-widgets/base",
          "model_name": "LayoutModel",
          "model_module_version": "1.2.0",
          "state": {
            "_model_module": "@jupyter-widgets/base",
            "_model_module_version": "1.2.0",
            "_model_name": "LayoutModel",
            "_view_count": null,
            "_view_module": "@jupyter-widgets/base",
            "_view_module_version": "1.2.0",
            "_view_name": "LayoutView",
            "align_content": null,
            "align_items": null,
            "align_self": null,
            "border": null,
            "bottom": null,
            "display": null,
            "flex": null,
            "flex_flow": null,
            "grid_area": null,
            "grid_auto_columns": null,
            "grid_auto_flow": null,
            "grid_auto_rows": null,
            "grid_column": null,
            "grid_gap": null,
            "grid_row": null,
            "grid_template_areas": null,
            "grid_template_columns": null,
            "grid_template_rows": null,
            "height": null,
            "justify_content": null,
            "justify_items": null,
            "left": null,
            "margin": null,
            "max_height": null,
            "max_width": null,
            "min_height": null,
            "min_width": null,
            "object_fit": null,
            "object_position": null,
            "order": null,
            "overflow": null,
            "overflow_x": null,
            "overflow_y": null,
            "padding": null,
            "right": null,
            "top": null,
            "visibility": null,
            "width": null
          }
        },
        "0585afaffd784ef9aac824e641576324": {
          "model_module": "@jupyter-widgets/base",
          "model_name": "LayoutModel",
          "model_module_version": "1.2.0",
          "state": {
            "_model_module": "@jupyter-widgets/base",
            "_model_module_version": "1.2.0",
            "_model_name": "LayoutModel",
            "_view_count": null,
            "_view_module": "@jupyter-widgets/base",
            "_view_module_version": "1.2.0",
            "_view_name": "LayoutView",
            "align_content": null,
            "align_items": null,
            "align_self": null,
            "border": null,
            "bottom": null,
            "display": null,
            "flex": null,
            "flex_flow": null,
            "grid_area": null,
            "grid_auto_columns": null,
            "grid_auto_flow": null,
            "grid_auto_rows": null,
            "grid_column": null,
            "grid_gap": null,
            "grid_row": null,
            "grid_template_areas": null,
            "grid_template_columns": null,
            "grid_template_rows": null,
            "height": null,
            "justify_content": null,
            "justify_items": null,
            "left": null,
            "margin": null,
            "max_height": null,
            "max_width": null,
            "min_height": null,
            "min_width": null,
            "object_fit": null,
            "object_position": null,
            "order": null,
            "overflow": null,
            "overflow_x": null,
            "overflow_y": null,
            "padding": null,
            "right": null,
            "top": null,
            "visibility": null,
            "width": null
          }
        },
        "956cb435394b4f1a83d429e2d803c356": {
          "model_module": "@jupyter-widgets/controls",
          "model_name": "DescriptionStyleModel",
          "model_module_version": "1.5.0",
          "state": {
            "_model_module": "@jupyter-widgets/controls",
            "_model_module_version": "1.5.0",
            "_model_name": "DescriptionStyleModel",
            "_view_count": null,
            "_view_module": "@jupyter-widgets/base",
            "_view_module_version": "1.2.0",
            "_view_name": "StyleView",
            "description_width": ""
          }
        },
        "95679a9d57eb49ab9f9ad58758c85c27": {
          "model_module": "@jupyter-widgets/base",
          "model_name": "LayoutModel",
          "model_module_version": "1.2.0",
          "state": {
            "_model_module": "@jupyter-widgets/base",
            "_model_module_version": "1.2.0",
            "_model_name": "LayoutModel",
            "_view_count": null,
            "_view_module": "@jupyter-widgets/base",
            "_view_module_version": "1.2.0",
            "_view_name": "LayoutView",
            "align_content": null,
            "align_items": null,
            "align_self": null,
            "border": null,
            "bottom": null,
            "display": null,
            "flex": null,
            "flex_flow": null,
            "grid_area": null,
            "grid_auto_columns": null,
            "grid_auto_flow": null,
            "grid_auto_rows": null,
            "grid_column": null,
            "grid_gap": null,
            "grid_row": null,
            "grid_template_areas": null,
            "grid_template_columns": null,
            "grid_template_rows": null,
            "height": null,
            "justify_content": null,
            "justify_items": null,
            "left": null,
            "margin": null,
            "max_height": null,
            "max_width": null,
            "min_height": null,
            "min_width": null,
            "object_fit": null,
            "object_position": null,
            "order": null,
            "overflow": null,
            "overflow_x": null,
            "overflow_y": null,
            "padding": null,
            "right": null,
            "top": null,
            "visibility": null,
            "width": null
          }
        },
        "7c484f10554b48219c6fc0d26d5e8477": {
          "model_module": "@jupyter-widgets/controls",
          "model_name": "ProgressStyleModel",
          "model_module_version": "1.5.0",
          "state": {
            "_model_module": "@jupyter-widgets/controls",
            "_model_module_version": "1.5.0",
            "_model_name": "ProgressStyleModel",
            "_view_count": null,
            "_view_module": "@jupyter-widgets/base",
            "_view_module_version": "1.2.0",
            "_view_name": "StyleView",
            "bar_color": null,
            "description_width": ""
          }
        },
        "40ab13ac18fd4f68b4cfb039468e2de2": {
          "model_module": "@jupyter-widgets/base",
          "model_name": "LayoutModel",
          "model_module_version": "1.2.0",
          "state": {
            "_model_module": "@jupyter-widgets/base",
            "_model_module_version": "1.2.0",
            "_model_name": "LayoutModel",
            "_view_count": null,
            "_view_module": "@jupyter-widgets/base",
            "_view_module_version": "1.2.0",
            "_view_name": "LayoutView",
            "align_content": null,
            "align_items": null,
            "align_self": null,
            "border": null,
            "bottom": null,
            "display": null,
            "flex": null,
            "flex_flow": null,
            "grid_area": null,
            "grid_auto_columns": null,
            "grid_auto_flow": null,
            "grid_auto_rows": null,
            "grid_column": null,
            "grid_gap": null,
            "grid_row": null,
            "grid_template_areas": null,
            "grid_template_columns": null,
            "grid_template_rows": null,
            "height": null,
            "justify_content": null,
            "justify_items": null,
            "left": null,
            "margin": null,
            "max_height": null,
            "max_width": null,
            "min_height": null,
            "min_width": null,
            "object_fit": null,
            "object_position": null,
            "order": null,
            "overflow": null,
            "overflow_x": null,
            "overflow_y": null,
            "padding": null,
            "right": null,
            "top": null,
            "visibility": null,
            "width": null
          }
        },
        "5866605c90f24a5086dd370b124cd4fc": {
          "model_module": "@jupyter-widgets/controls",
          "model_name": "DescriptionStyleModel",
          "model_module_version": "1.5.0",
          "state": {
            "_model_module": "@jupyter-widgets/controls",
            "_model_module_version": "1.5.0",
            "_model_name": "DescriptionStyleModel",
            "_view_count": null,
            "_view_module": "@jupyter-widgets/base",
            "_view_module_version": "1.2.0",
            "_view_name": "StyleView",
            "description_width": ""
          }
        },
        "b53ffe029eb94ff7a20cb6d6c6d6eefc": {
          "model_module": "@jupyter-widgets/controls",
          "model_name": "HBoxModel",
          "model_module_version": "1.5.0",
          "state": {
            "_dom_classes": [],
            "_model_module": "@jupyter-widgets/controls",
            "_model_module_version": "1.5.0",
            "_model_name": "HBoxModel",
            "_view_count": null,
            "_view_module": "@jupyter-widgets/controls",
            "_view_module_version": "1.5.0",
            "_view_name": "HBoxView",
            "box_style": "",
            "children": [
              "IPY_MODEL_b8f2b44c5b21458d801058a2c483822d",
              "IPY_MODEL_1a9d007767164c77a32bed2c18328a84",
              "IPY_MODEL_2481319d4b5c4323820392fbd073afa5"
            ],
            "layout": "IPY_MODEL_9904fad454824ab68f343a328298106f"
          }
        },
        "b8f2b44c5b21458d801058a2c483822d": {
          "model_module": "@jupyter-widgets/controls",
          "model_name": "HTMLModel",
          "model_module_version": "1.5.0",
          "state": {
            "_dom_classes": [],
            "_model_module": "@jupyter-widgets/controls",
            "_model_module_version": "1.5.0",
            "_model_name": "HTMLModel",
            "_view_count": null,
            "_view_module": "@jupyter-widgets/controls",
            "_view_module_version": "1.5.0",
            "_view_name": "HTMLView",
            "description": "",
            "description_tooltip": null,
            "layout": "IPY_MODEL_cebfa7c5c72e4764a776453ba29245f8",
            "placeholder": "​",
            "style": "IPY_MODEL_d54c0965a69f4a1ba12f3e8b046ce9f4",
            "value": "100%"
          }
        },
        "1a9d007767164c77a32bed2c18328a84": {
          "model_module": "@jupyter-widgets/controls",
          "model_name": "FloatProgressModel",
          "model_module_version": "1.5.0",
          "state": {
            "_dom_classes": [],
            "_model_module": "@jupyter-widgets/controls",
            "_model_module_version": "1.5.0",
            "_model_name": "FloatProgressModel",
            "_view_count": null,
            "_view_module": "@jupyter-widgets/controls",
            "_view_module_version": "1.5.0",
            "_view_name": "ProgressView",
            "bar_style": "success",
            "description": "",
            "description_tooltip": null,
            "layout": "IPY_MODEL_90fcc1e36de4402f965d8828c0ab9283",
            "max": 10000,
            "min": 0,
            "orientation": "horizontal",
            "style": "IPY_MODEL_04cc769a7bd641a687bdb46c9421fdec",
            "value": 10000
          }
        },
        "2481319d4b5c4323820392fbd073afa5": {
          "model_module": "@jupyter-widgets/controls",
          "model_name": "HTMLModel",
          "model_module_version": "1.5.0",
          "state": {
            "_dom_classes": [],
            "_model_module": "@jupyter-widgets/controls",
            "_model_module_version": "1.5.0",
            "_model_name": "HTMLModel",
            "_view_count": null,
            "_view_module": "@jupyter-widgets/controls",
            "_view_module_version": "1.5.0",
            "_view_name": "HTMLView",
            "description": "",
            "description_tooltip": null,
            "layout": "IPY_MODEL_f79654eaf46d451db5f71f87e4584162",
            "placeholder": "​",
            "style": "IPY_MODEL_278a20813bb24df198506fe498497abf",
            "value": " 10000/10000 [00:20&lt;00:00, 538.44it/s, loss=0.173, lr=0.001]"
          }
        },
        "9904fad454824ab68f343a328298106f": {
          "model_module": "@jupyter-widgets/base",
          "model_name": "LayoutModel",
          "model_module_version": "1.2.0",
          "state": {
            "_model_module": "@jupyter-widgets/base",
            "_model_module_version": "1.2.0",
            "_model_name": "LayoutModel",
            "_view_count": null,
            "_view_module": "@jupyter-widgets/base",
            "_view_module_version": "1.2.0",
            "_view_name": "LayoutView",
            "align_content": null,
            "align_items": null,
            "align_self": null,
            "border": null,
            "bottom": null,
            "display": null,
            "flex": null,
            "flex_flow": null,
            "grid_area": null,
            "grid_auto_columns": null,
            "grid_auto_flow": null,
            "grid_auto_rows": null,
            "grid_column": null,
            "grid_gap": null,
            "grid_row": null,
            "grid_template_areas": null,
            "grid_template_columns": null,
            "grid_template_rows": null,
            "height": null,
            "justify_content": null,
            "justify_items": null,
            "left": null,
            "margin": null,
            "max_height": null,
            "max_width": null,
            "min_height": null,
            "min_width": null,
            "object_fit": null,
            "object_position": null,
            "order": null,
            "overflow": null,
            "overflow_x": null,
            "overflow_y": null,
            "padding": null,
            "right": null,
            "top": null,
            "visibility": null,
            "width": null
          }
        },
        "cebfa7c5c72e4764a776453ba29245f8": {
          "model_module": "@jupyter-widgets/base",
          "model_name": "LayoutModel",
          "model_module_version": "1.2.0",
          "state": {
            "_model_module": "@jupyter-widgets/base",
            "_model_module_version": "1.2.0",
            "_model_name": "LayoutModel",
            "_view_count": null,
            "_view_module": "@jupyter-widgets/base",
            "_view_module_version": "1.2.0",
            "_view_name": "LayoutView",
            "align_content": null,
            "align_items": null,
            "align_self": null,
            "border": null,
            "bottom": null,
            "display": null,
            "flex": null,
            "flex_flow": null,
            "grid_area": null,
            "grid_auto_columns": null,
            "grid_auto_flow": null,
            "grid_auto_rows": null,
            "grid_column": null,
            "grid_gap": null,
            "grid_row": null,
            "grid_template_areas": null,
            "grid_template_columns": null,
            "grid_template_rows": null,
            "height": null,
            "justify_content": null,
            "justify_items": null,
            "left": null,
            "margin": null,
            "max_height": null,
            "max_width": null,
            "min_height": null,
            "min_width": null,
            "object_fit": null,
            "object_position": null,
            "order": null,
            "overflow": null,
            "overflow_x": null,
            "overflow_y": null,
            "padding": null,
            "right": null,
            "top": null,
            "visibility": null,
            "width": null
          }
        },
        "d54c0965a69f4a1ba12f3e8b046ce9f4": {
          "model_module": "@jupyter-widgets/controls",
          "model_name": "DescriptionStyleModel",
          "model_module_version": "1.5.0",
          "state": {
            "_model_module": "@jupyter-widgets/controls",
            "_model_module_version": "1.5.0",
            "_model_name": "DescriptionStyleModel",
            "_view_count": null,
            "_view_module": "@jupyter-widgets/base",
            "_view_module_version": "1.2.0",
            "_view_name": "StyleView",
            "description_width": ""
          }
        },
        "90fcc1e36de4402f965d8828c0ab9283": {
          "model_module": "@jupyter-widgets/base",
          "model_name": "LayoutModel",
          "model_module_version": "1.2.0",
          "state": {
            "_model_module": "@jupyter-widgets/base",
            "_model_module_version": "1.2.0",
            "_model_name": "LayoutModel",
            "_view_count": null,
            "_view_module": "@jupyter-widgets/base",
            "_view_module_version": "1.2.0",
            "_view_name": "LayoutView",
            "align_content": null,
            "align_items": null,
            "align_self": null,
            "border": null,
            "bottom": null,
            "display": null,
            "flex": null,
            "flex_flow": null,
            "grid_area": null,
            "grid_auto_columns": null,
            "grid_auto_flow": null,
            "grid_auto_rows": null,
            "grid_column": null,
            "grid_gap": null,
            "grid_row": null,
            "grid_template_areas": null,
            "grid_template_columns": null,
            "grid_template_rows": null,
            "height": null,
            "justify_content": null,
            "justify_items": null,
            "left": null,
            "margin": null,
            "max_height": null,
            "max_width": null,
            "min_height": null,
            "min_width": null,
            "object_fit": null,
            "object_position": null,
            "order": null,
            "overflow": null,
            "overflow_x": null,
            "overflow_y": null,
            "padding": null,
            "right": null,
            "top": null,
            "visibility": null,
            "width": null
          }
        },
        "04cc769a7bd641a687bdb46c9421fdec": {
          "model_module": "@jupyter-widgets/controls",
          "model_name": "ProgressStyleModel",
          "model_module_version": "1.5.0",
          "state": {
            "_model_module": "@jupyter-widgets/controls",
            "_model_module_version": "1.5.0",
            "_model_name": "ProgressStyleModel",
            "_view_count": null,
            "_view_module": "@jupyter-widgets/base",
            "_view_module_version": "1.2.0",
            "_view_name": "StyleView",
            "bar_color": null,
            "description_width": ""
          }
        },
        "f79654eaf46d451db5f71f87e4584162": {
          "model_module": "@jupyter-widgets/base",
          "model_name": "LayoutModel",
          "model_module_version": "1.2.0",
          "state": {
            "_model_module": "@jupyter-widgets/base",
            "_model_module_version": "1.2.0",
            "_model_name": "LayoutModel",
            "_view_count": null,
            "_view_module": "@jupyter-widgets/base",
            "_view_module_version": "1.2.0",
            "_view_name": "LayoutView",
            "align_content": null,
            "align_items": null,
            "align_self": null,
            "border": null,
            "bottom": null,
            "display": null,
            "flex": null,
            "flex_flow": null,
            "grid_area": null,
            "grid_auto_columns": null,
            "grid_auto_flow": null,
            "grid_auto_rows": null,
            "grid_column": null,
            "grid_gap": null,
            "grid_row": null,
            "grid_template_areas": null,
            "grid_template_columns": null,
            "grid_template_rows": null,
            "height": null,
            "justify_content": null,
            "justify_items": null,
            "left": null,
            "margin": null,
            "max_height": null,
            "max_width": null,
            "min_height": null,
            "min_width": null,
            "object_fit": null,
            "object_position": null,
            "order": null,
            "overflow": null,
            "overflow_x": null,
            "overflow_y": null,
            "padding": null,
            "right": null,
            "top": null,
            "visibility": null,
            "width": null
          }
        },
        "278a20813bb24df198506fe498497abf": {
          "model_module": "@jupyter-widgets/controls",
          "model_name": "DescriptionStyleModel",
          "model_module_version": "1.5.0",
          "state": {
            "_model_module": "@jupyter-widgets/controls",
            "_model_module_version": "1.5.0",
            "_model_name": "DescriptionStyleModel",
            "_view_count": null,
            "_view_module": "@jupyter-widgets/base",
            "_view_module_version": "1.2.0",
            "_view_name": "StyleView",
            "description_width": ""
          }
        },
        "c0885dc7d11342a3af546e644d361f0f": {
          "model_module": "@jupyter-widgets/controls",
          "model_name": "HBoxModel",
          "model_module_version": "1.5.0",
          "state": {
            "_dom_classes": [],
            "_model_module": "@jupyter-widgets/controls",
            "_model_module_version": "1.5.0",
            "_model_name": "HBoxModel",
            "_view_count": null,
            "_view_module": "@jupyter-widgets/controls",
            "_view_module_version": "1.5.0",
            "_view_name": "HBoxView",
            "box_style": "",
            "children": [
              "IPY_MODEL_52fec71d565646c8b81334e42f930c9d",
              "IPY_MODEL_fc87dae336af45c68205371d4126cc42",
              "IPY_MODEL_2951c6d013ea492d84d05fc980a36cfd"
            ],
            "layout": "IPY_MODEL_d9ddc3993e17477788bf4286f6fcfa5d"
          }
        },
        "52fec71d565646c8b81334e42f930c9d": {
          "model_module": "@jupyter-widgets/controls",
          "model_name": "HTMLModel",
          "model_module_version": "1.5.0",
          "state": {
            "_dom_classes": [],
            "_model_module": "@jupyter-widgets/controls",
            "_model_module_version": "1.5.0",
            "_model_name": "HTMLModel",
            "_view_count": null,
            "_view_module": "@jupyter-widgets/controls",
            "_view_module_version": "1.5.0",
            "_view_name": "HTMLView",
            "description": "",
            "description_tooltip": null,
            "layout": "IPY_MODEL_58a8344cfe6f4b15a59f37a06005040e",
            "placeholder": "​",
            "style": "IPY_MODEL_cd09c102738f4006803d960b128a530b",
            "value": "100%"
          }
        },
        "fc87dae336af45c68205371d4126cc42": {
          "model_module": "@jupyter-widgets/controls",
          "model_name": "FloatProgressModel",
          "model_module_version": "1.5.0",
          "state": {
            "_dom_classes": [],
            "_model_module": "@jupyter-widgets/controls",
            "_model_module_version": "1.5.0",
            "_model_name": "FloatProgressModel",
            "_view_count": null,
            "_view_module": "@jupyter-widgets/controls",
            "_view_module_version": "1.5.0",
            "_view_name": "ProgressView",
            "bar_style": "success",
            "description": "",
            "description_tooltip": null,
            "layout": "IPY_MODEL_eb46f26da2e54d489d8e31085838f5db",
            "max": 10000,
            "min": 0,
            "orientation": "horizontal",
            "style": "IPY_MODEL_bfaf21b30149486485dbe72390c103d4",
            "value": 10000
          }
        },
        "2951c6d013ea492d84d05fc980a36cfd": {
          "model_module": "@jupyter-widgets/controls",
          "model_name": "HTMLModel",
          "model_module_version": "1.5.0",
          "state": {
            "_dom_classes": [],
            "_model_module": "@jupyter-widgets/controls",
            "_model_module_version": "1.5.0",
            "_model_name": "HTMLModel",
            "_view_count": null,
            "_view_module": "@jupyter-widgets/controls",
            "_view_module_version": "1.5.0",
            "_view_name": "HTMLView",
            "description": "",
            "description_tooltip": null,
            "layout": "IPY_MODEL_b6857c133e194699a0c73cfd7ac4c266",
            "placeholder": "​",
            "style": "IPY_MODEL_24499a6ce2b5411096bd615aa081dba4",
            "value": " 10000/10000 [00:19&lt;00:00, 548.87it/s, loss=0.0179, lr=0.001]"
          }
        },
        "d9ddc3993e17477788bf4286f6fcfa5d": {
          "model_module": "@jupyter-widgets/base",
          "model_name": "LayoutModel",
          "model_module_version": "1.2.0",
          "state": {
            "_model_module": "@jupyter-widgets/base",
            "_model_module_version": "1.2.0",
            "_model_name": "LayoutModel",
            "_view_count": null,
            "_view_module": "@jupyter-widgets/base",
            "_view_module_version": "1.2.0",
            "_view_name": "LayoutView",
            "align_content": null,
            "align_items": null,
            "align_self": null,
            "border": null,
            "bottom": null,
            "display": null,
            "flex": null,
            "flex_flow": null,
            "grid_area": null,
            "grid_auto_columns": null,
            "grid_auto_flow": null,
            "grid_auto_rows": null,
            "grid_column": null,
            "grid_gap": null,
            "grid_row": null,
            "grid_template_areas": null,
            "grid_template_columns": null,
            "grid_template_rows": null,
            "height": null,
            "justify_content": null,
            "justify_items": null,
            "left": null,
            "margin": null,
            "max_height": null,
            "max_width": null,
            "min_height": null,
            "min_width": null,
            "object_fit": null,
            "object_position": null,
            "order": null,
            "overflow": null,
            "overflow_x": null,
            "overflow_y": null,
            "padding": null,
            "right": null,
            "top": null,
            "visibility": null,
            "width": null
          }
        },
        "58a8344cfe6f4b15a59f37a06005040e": {
          "model_module": "@jupyter-widgets/base",
          "model_name": "LayoutModel",
          "model_module_version": "1.2.0",
          "state": {
            "_model_module": "@jupyter-widgets/base",
            "_model_module_version": "1.2.0",
            "_model_name": "LayoutModel",
            "_view_count": null,
            "_view_module": "@jupyter-widgets/base",
            "_view_module_version": "1.2.0",
            "_view_name": "LayoutView",
            "align_content": null,
            "align_items": null,
            "align_self": null,
            "border": null,
            "bottom": null,
            "display": null,
            "flex": null,
            "flex_flow": null,
            "grid_area": null,
            "grid_auto_columns": null,
            "grid_auto_flow": null,
            "grid_auto_rows": null,
            "grid_column": null,
            "grid_gap": null,
            "grid_row": null,
            "grid_template_areas": null,
            "grid_template_columns": null,
            "grid_template_rows": null,
            "height": null,
            "justify_content": null,
            "justify_items": null,
            "left": null,
            "margin": null,
            "max_height": null,
            "max_width": null,
            "min_height": null,
            "min_width": null,
            "object_fit": null,
            "object_position": null,
            "order": null,
            "overflow": null,
            "overflow_x": null,
            "overflow_y": null,
            "padding": null,
            "right": null,
            "top": null,
            "visibility": null,
            "width": null
          }
        },
        "cd09c102738f4006803d960b128a530b": {
          "model_module": "@jupyter-widgets/controls",
          "model_name": "DescriptionStyleModel",
          "model_module_version": "1.5.0",
          "state": {
            "_model_module": "@jupyter-widgets/controls",
            "_model_module_version": "1.5.0",
            "_model_name": "DescriptionStyleModel",
            "_view_count": null,
            "_view_module": "@jupyter-widgets/base",
            "_view_module_version": "1.2.0",
            "_view_name": "StyleView",
            "description_width": ""
          }
        },
        "eb46f26da2e54d489d8e31085838f5db": {
          "model_module": "@jupyter-widgets/base",
          "model_name": "LayoutModel",
          "model_module_version": "1.2.0",
          "state": {
            "_model_module": "@jupyter-widgets/base",
            "_model_module_version": "1.2.0",
            "_model_name": "LayoutModel",
            "_view_count": null,
            "_view_module": "@jupyter-widgets/base",
            "_view_module_version": "1.2.0",
            "_view_name": "LayoutView",
            "align_content": null,
            "align_items": null,
            "align_self": null,
            "border": null,
            "bottom": null,
            "display": null,
            "flex": null,
            "flex_flow": null,
            "grid_area": null,
            "grid_auto_columns": null,
            "grid_auto_flow": null,
            "grid_auto_rows": null,
            "grid_column": null,
            "grid_gap": null,
            "grid_row": null,
            "grid_template_areas": null,
            "grid_template_columns": null,
            "grid_template_rows": null,
            "height": null,
            "justify_content": null,
            "justify_items": null,
            "left": null,
            "margin": null,
            "max_height": null,
            "max_width": null,
            "min_height": null,
            "min_width": null,
            "object_fit": null,
            "object_position": null,
            "order": null,
            "overflow": null,
            "overflow_x": null,
            "overflow_y": null,
            "padding": null,
            "right": null,
            "top": null,
            "visibility": null,
            "width": null
          }
        },
        "bfaf21b30149486485dbe72390c103d4": {
          "model_module": "@jupyter-widgets/controls",
          "model_name": "ProgressStyleModel",
          "model_module_version": "1.5.0",
          "state": {
            "_model_module": "@jupyter-widgets/controls",
            "_model_module_version": "1.5.0",
            "_model_name": "ProgressStyleModel",
            "_view_count": null,
            "_view_module": "@jupyter-widgets/base",
            "_view_module_version": "1.2.0",
            "_view_name": "StyleView",
            "bar_color": null,
            "description_width": ""
          }
        },
        "b6857c133e194699a0c73cfd7ac4c266": {
          "model_module": "@jupyter-widgets/base",
          "model_name": "LayoutModel",
          "model_module_version": "1.2.0",
          "state": {
            "_model_module": "@jupyter-widgets/base",
            "_model_module_version": "1.2.0",
            "_model_name": "LayoutModel",
            "_view_count": null,
            "_view_module": "@jupyter-widgets/base",
            "_view_module_version": "1.2.0",
            "_view_name": "LayoutView",
            "align_content": null,
            "align_items": null,
            "align_self": null,
            "border": null,
            "bottom": null,
            "display": null,
            "flex": null,
            "flex_flow": null,
            "grid_area": null,
            "grid_auto_columns": null,
            "grid_auto_flow": null,
            "grid_auto_rows": null,
            "grid_column": null,
            "grid_gap": null,
            "grid_row": null,
            "grid_template_areas": null,
            "grid_template_columns": null,
            "grid_template_rows": null,
            "height": null,
            "justify_content": null,
            "justify_items": null,
            "left": null,
            "margin": null,
            "max_height": null,
            "max_width": null,
            "min_height": null,
            "min_width": null,
            "object_fit": null,
            "object_position": null,
            "order": null,
            "overflow": null,
            "overflow_x": null,
            "overflow_y": null,
            "padding": null,
            "right": null,
            "top": null,
            "visibility": null,
            "width": null
          }
        },
        "24499a6ce2b5411096bd615aa081dba4": {
          "model_module": "@jupyter-widgets/controls",
          "model_name": "DescriptionStyleModel",
          "model_module_version": "1.5.0",
          "state": {
            "_model_module": "@jupyter-widgets/controls",
            "_model_module_version": "1.5.0",
            "_model_name": "DescriptionStyleModel",
            "_view_count": null,
            "_view_module": "@jupyter-widgets/base",
            "_view_module_version": "1.2.0",
            "_view_name": "StyleView",
            "description_width": ""
          }
        },
        "da8e15a0b1614e76b4d2d576dc232025": {
          "model_module": "@jupyter-widgets/controls",
          "model_name": "HBoxModel",
          "model_module_version": "1.5.0",
          "state": {
            "_dom_classes": [],
            "_model_module": "@jupyter-widgets/controls",
            "_model_module_version": "1.5.0",
            "_model_name": "HBoxModel",
            "_view_count": null,
            "_view_module": "@jupyter-widgets/controls",
            "_view_module_version": "1.5.0",
            "_view_name": "HBoxView",
            "box_style": "",
            "children": [
              "IPY_MODEL_22fa81103f5a432da84a8cae28f522ff",
              "IPY_MODEL_c9c2e6a88de1459dbbc3d678dfac9772",
              "IPY_MODEL_e49a095a7ea94be892cd7888ba629af2"
            ],
            "layout": "IPY_MODEL_27db3c1d06cd40368535c4957172d892"
          }
        },
        "22fa81103f5a432da84a8cae28f522ff": {
          "model_module": "@jupyter-widgets/controls",
          "model_name": "HTMLModel",
          "model_module_version": "1.5.0",
          "state": {
            "_dom_classes": [],
            "_model_module": "@jupyter-widgets/controls",
            "_model_module_version": "1.5.0",
            "_model_name": "HTMLModel",
            "_view_count": null,
            "_view_module": "@jupyter-widgets/controls",
            "_view_module_version": "1.5.0",
            "_view_name": "HTMLView",
            "description": "",
            "description_tooltip": null,
            "layout": "IPY_MODEL_83a7b63f631f4daca7d282d8ddaff025",
            "placeholder": "​",
            "style": "IPY_MODEL_44dac4824c5842248438e6559a27f135",
            "value": "100%"
          }
        },
        "c9c2e6a88de1459dbbc3d678dfac9772": {
          "model_module": "@jupyter-widgets/controls",
          "model_name": "FloatProgressModel",
          "model_module_version": "1.5.0",
          "state": {
            "_dom_classes": [],
            "_model_module": "@jupyter-widgets/controls",
            "_model_module_version": "1.5.0",
            "_model_name": "FloatProgressModel",
            "_view_count": null,
            "_view_module": "@jupyter-widgets/controls",
            "_view_module_version": "1.5.0",
            "_view_name": "ProgressView",
            "bar_style": "success",
            "description": "",
            "description_tooltip": null,
            "layout": "IPY_MODEL_fc58dc9f11b443009e232bb91a21a71b",
            "max": 10000,
            "min": 0,
            "orientation": "horizontal",
            "style": "IPY_MODEL_a64239e80f7b468788a6efb947d1c830",
            "value": 10000
          }
        },
        "e49a095a7ea94be892cd7888ba629af2": {
          "model_module": "@jupyter-widgets/controls",
          "model_name": "HTMLModel",
          "model_module_version": "1.5.0",
          "state": {
            "_dom_classes": [],
            "_model_module": "@jupyter-widgets/controls",
            "_model_module_version": "1.5.0",
            "_model_name": "HTMLModel",
            "_view_count": null,
            "_view_module": "@jupyter-widgets/controls",
            "_view_module_version": "1.5.0",
            "_view_name": "HTMLView",
            "description": "",
            "description_tooltip": null,
            "layout": "IPY_MODEL_4e9436df251c49c7a64345db11b739fd",
            "placeholder": "​",
            "style": "IPY_MODEL_b3b8806722ca4c3e9ae354cda634d799",
            "value": " 10000/10000 [00:20&lt;00:00, 571.15it/s, loss=0.00443, lr=0.001]"
          }
        },
        "27db3c1d06cd40368535c4957172d892": {
          "model_module": "@jupyter-widgets/base",
          "model_name": "LayoutModel",
          "model_module_version": "1.2.0",
          "state": {
            "_model_module": "@jupyter-widgets/base",
            "_model_module_version": "1.2.0",
            "_model_name": "LayoutModel",
            "_view_count": null,
            "_view_module": "@jupyter-widgets/base",
            "_view_module_version": "1.2.0",
            "_view_name": "LayoutView",
            "align_content": null,
            "align_items": null,
            "align_self": null,
            "border": null,
            "bottom": null,
            "display": null,
            "flex": null,
            "flex_flow": null,
            "grid_area": null,
            "grid_auto_columns": null,
            "grid_auto_flow": null,
            "grid_auto_rows": null,
            "grid_column": null,
            "grid_gap": null,
            "grid_row": null,
            "grid_template_areas": null,
            "grid_template_columns": null,
            "grid_template_rows": null,
            "height": null,
            "justify_content": null,
            "justify_items": null,
            "left": null,
            "margin": null,
            "max_height": null,
            "max_width": null,
            "min_height": null,
            "min_width": null,
            "object_fit": null,
            "object_position": null,
            "order": null,
            "overflow": null,
            "overflow_x": null,
            "overflow_y": null,
            "padding": null,
            "right": null,
            "top": null,
            "visibility": null,
            "width": null
          }
        },
        "83a7b63f631f4daca7d282d8ddaff025": {
          "model_module": "@jupyter-widgets/base",
          "model_name": "LayoutModel",
          "model_module_version": "1.2.0",
          "state": {
            "_model_module": "@jupyter-widgets/base",
            "_model_module_version": "1.2.0",
            "_model_name": "LayoutModel",
            "_view_count": null,
            "_view_module": "@jupyter-widgets/base",
            "_view_module_version": "1.2.0",
            "_view_name": "LayoutView",
            "align_content": null,
            "align_items": null,
            "align_self": null,
            "border": null,
            "bottom": null,
            "display": null,
            "flex": null,
            "flex_flow": null,
            "grid_area": null,
            "grid_auto_columns": null,
            "grid_auto_flow": null,
            "grid_auto_rows": null,
            "grid_column": null,
            "grid_gap": null,
            "grid_row": null,
            "grid_template_areas": null,
            "grid_template_columns": null,
            "grid_template_rows": null,
            "height": null,
            "justify_content": null,
            "justify_items": null,
            "left": null,
            "margin": null,
            "max_height": null,
            "max_width": null,
            "min_height": null,
            "min_width": null,
            "object_fit": null,
            "object_position": null,
            "order": null,
            "overflow": null,
            "overflow_x": null,
            "overflow_y": null,
            "padding": null,
            "right": null,
            "top": null,
            "visibility": null,
            "width": null
          }
        },
        "44dac4824c5842248438e6559a27f135": {
          "model_module": "@jupyter-widgets/controls",
          "model_name": "DescriptionStyleModel",
          "model_module_version": "1.5.0",
          "state": {
            "_model_module": "@jupyter-widgets/controls",
            "_model_module_version": "1.5.0",
            "_model_name": "DescriptionStyleModel",
            "_view_count": null,
            "_view_module": "@jupyter-widgets/base",
            "_view_module_version": "1.2.0",
            "_view_name": "StyleView",
            "description_width": ""
          }
        },
        "fc58dc9f11b443009e232bb91a21a71b": {
          "model_module": "@jupyter-widgets/base",
          "model_name": "LayoutModel",
          "model_module_version": "1.2.0",
          "state": {
            "_model_module": "@jupyter-widgets/base",
            "_model_module_version": "1.2.0",
            "_model_name": "LayoutModel",
            "_view_count": null,
            "_view_module": "@jupyter-widgets/base",
            "_view_module_version": "1.2.0",
            "_view_name": "LayoutView",
            "align_content": null,
            "align_items": null,
            "align_self": null,
            "border": null,
            "bottom": null,
            "display": null,
            "flex": null,
            "flex_flow": null,
            "grid_area": null,
            "grid_auto_columns": null,
            "grid_auto_flow": null,
            "grid_auto_rows": null,
            "grid_column": null,
            "grid_gap": null,
            "grid_row": null,
            "grid_template_areas": null,
            "grid_template_columns": null,
            "grid_template_rows": null,
            "height": null,
            "justify_content": null,
            "justify_items": null,
            "left": null,
            "margin": null,
            "max_height": null,
            "max_width": null,
            "min_height": null,
            "min_width": null,
            "object_fit": null,
            "object_position": null,
            "order": null,
            "overflow": null,
            "overflow_x": null,
            "overflow_y": null,
            "padding": null,
            "right": null,
            "top": null,
            "visibility": null,
            "width": null
          }
        },
        "a64239e80f7b468788a6efb947d1c830": {
          "model_module": "@jupyter-widgets/controls",
          "model_name": "ProgressStyleModel",
          "model_module_version": "1.5.0",
          "state": {
            "_model_module": "@jupyter-widgets/controls",
            "_model_module_version": "1.5.0",
            "_model_name": "ProgressStyleModel",
            "_view_count": null,
            "_view_module": "@jupyter-widgets/base",
            "_view_module_version": "1.2.0",
            "_view_name": "StyleView",
            "bar_color": null,
            "description_width": ""
          }
        },
        "4e9436df251c49c7a64345db11b739fd": {
          "model_module": "@jupyter-widgets/base",
          "model_name": "LayoutModel",
          "model_module_version": "1.2.0",
          "state": {
            "_model_module": "@jupyter-widgets/base",
            "_model_module_version": "1.2.0",
            "_model_name": "LayoutModel",
            "_view_count": null,
            "_view_module": "@jupyter-widgets/base",
            "_view_module_version": "1.2.0",
            "_view_name": "LayoutView",
            "align_content": null,
            "align_items": null,
            "align_self": null,
            "border": null,
            "bottom": null,
            "display": null,
            "flex": null,
            "flex_flow": null,
            "grid_area": null,
            "grid_auto_columns": null,
            "grid_auto_flow": null,
            "grid_auto_rows": null,
            "grid_column": null,
            "grid_gap": null,
            "grid_row": null,
            "grid_template_areas": null,
            "grid_template_columns": null,
            "grid_template_rows": null,
            "height": null,
            "justify_content": null,
            "justify_items": null,
            "left": null,
            "margin": null,
            "max_height": null,
            "max_width": null,
            "min_height": null,
            "min_width": null,
            "object_fit": null,
            "object_position": null,
            "order": null,
            "overflow": null,
            "overflow_x": null,
            "overflow_y": null,
            "padding": null,
            "right": null,
            "top": null,
            "visibility": null,
            "width": null
          }
        },
        "b3b8806722ca4c3e9ae354cda634d799": {
          "model_module": "@jupyter-widgets/controls",
          "model_name": "DescriptionStyleModel",
          "model_module_version": "1.5.0",
          "state": {
            "_model_module": "@jupyter-widgets/controls",
            "_model_module_version": "1.5.0",
            "_model_name": "DescriptionStyleModel",
            "_view_count": null,
            "_view_module": "@jupyter-widgets/base",
            "_view_module_version": "1.2.0",
            "_view_name": "StyleView",
            "description_width": ""
          }
        },
        "5e6896b2cd2a48c58118d8b572e2a624": {
          "model_module": "@jupyter-widgets/controls",
          "model_name": "HBoxModel",
          "model_module_version": "1.5.0",
          "state": {
            "_dom_classes": [],
            "_model_module": "@jupyter-widgets/controls",
            "_model_module_version": "1.5.0",
            "_model_name": "HBoxModel",
            "_view_count": null,
            "_view_module": "@jupyter-widgets/controls",
            "_view_module_version": "1.5.0",
            "_view_name": "HBoxView",
            "box_style": "",
            "children": [
              "IPY_MODEL_009988929e8a4c26a97844bf96768b01",
              "IPY_MODEL_00da3d85e0ea47e3912019dccf080e79",
              "IPY_MODEL_e1d521504e66416f9a0b640f2c014118"
            ],
            "layout": "IPY_MODEL_0ef7cf3cc31446fe86bd505f0318adf5"
          }
        },
        "009988929e8a4c26a97844bf96768b01": {
          "model_module": "@jupyter-widgets/controls",
          "model_name": "HTMLModel",
          "model_module_version": "1.5.0",
          "state": {
            "_dom_classes": [],
            "_model_module": "@jupyter-widgets/controls",
            "_model_module_version": "1.5.0",
            "_model_name": "HTMLModel",
            "_view_count": null,
            "_view_module": "@jupyter-widgets/controls",
            "_view_module_version": "1.5.0",
            "_view_name": "HTMLView",
            "description": "",
            "description_tooltip": null,
            "layout": "IPY_MODEL_4fb789c0a05646f18f094e58806e9f09",
            "placeholder": "​",
            "style": "IPY_MODEL_74451376bd0b4052baeca6edac97d5c7",
            "value": "100%"
          }
        },
        "00da3d85e0ea47e3912019dccf080e79": {
          "model_module": "@jupyter-widgets/controls",
          "model_name": "FloatProgressModel",
          "model_module_version": "1.5.0",
          "state": {
            "_dom_classes": [],
            "_model_module": "@jupyter-widgets/controls",
            "_model_module_version": "1.5.0",
            "_model_name": "FloatProgressModel",
            "_view_count": null,
            "_view_module": "@jupyter-widgets/controls",
            "_view_module_version": "1.5.0",
            "_view_name": "ProgressView",
            "bar_style": "success",
            "description": "",
            "description_tooltip": null,
            "layout": "IPY_MODEL_df1ebc756b8e4212bd282f0b80e324d0",
            "max": 10000,
            "min": 0,
            "orientation": "horizontal",
            "style": "IPY_MODEL_75a5b5af85fd48ca9e9e166af69abcb7",
            "value": 10000
          }
        },
        "e1d521504e66416f9a0b640f2c014118": {
          "model_module": "@jupyter-widgets/controls",
          "model_name": "HTMLModel",
          "model_module_version": "1.5.0",
          "state": {
            "_dom_classes": [],
            "_model_module": "@jupyter-widgets/controls",
            "_model_module_version": "1.5.0",
            "_model_name": "HTMLModel",
            "_view_count": null,
            "_view_module": "@jupyter-widgets/controls",
            "_view_module_version": "1.5.0",
            "_view_name": "HTMLView",
            "description": "",
            "description_tooltip": null,
            "layout": "IPY_MODEL_a732940b07d74fcba82695c540d319a0",
            "placeholder": "​",
            "style": "IPY_MODEL_316bb9a8653b415c8780253545ddf64a",
            "value": " 10000/10000 [00:25&lt;00:00, 313.06it/s, loss=0.001, lr=0.001]"
          }
        },
        "0ef7cf3cc31446fe86bd505f0318adf5": {
          "model_module": "@jupyter-widgets/base",
          "model_name": "LayoutModel",
          "model_module_version": "1.2.0",
          "state": {
            "_model_module": "@jupyter-widgets/base",
            "_model_module_version": "1.2.0",
            "_model_name": "LayoutModel",
            "_view_count": null,
            "_view_module": "@jupyter-widgets/base",
            "_view_module_version": "1.2.0",
            "_view_name": "LayoutView",
            "align_content": null,
            "align_items": null,
            "align_self": null,
            "border": null,
            "bottom": null,
            "display": null,
            "flex": null,
            "flex_flow": null,
            "grid_area": null,
            "grid_auto_columns": null,
            "grid_auto_flow": null,
            "grid_auto_rows": null,
            "grid_column": null,
            "grid_gap": null,
            "grid_row": null,
            "grid_template_areas": null,
            "grid_template_columns": null,
            "grid_template_rows": null,
            "height": null,
            "justify_content": null,
            "justify_items": null,
            "left": null,
            "margin": null,
            "max_height": null,
            "max_width": null,
            "min_height": null,
            "min_width": null,
            "object_fit": null,
            "object_position": null,
            "order": null,
            "overflow": null,
            "overflow_x": null,
            "overflow_y": null,
            "padding": null,
            "right": null,
            "top": null,
            "visibility": null,
            "width": null
          }
        },
        "4fb789c0a05646f18f094e58806e9f09": {
          "model_module": "@jupyter-widgets/base",
          "model_name": "LayoutModel",
          "model_module_version": "1.2.0",
          "state": {
            "_model_module": "@jupyter-widgets/base",
            "_model_module_version": "1.2.0",
            "_model_name": "LayoutModel",
            "_view_count": null,
            "_view_module": "@jupyter-widgets/base",
            "_view_module_version": "1.2.0",
            "_view_name": "LayoutView",
            "align_content": null,
            "align_items": null,
            "align_self": null,
            "border": null,
            "bottom": null,
            "display": null,
            "flex": null,
            "flex_flow": null,
            "grid_area": null,
            "grid_auto_columns": null,
            "grid_auto_flow": null,
            "grid_auto_rows": null,
            "grid_column": null,
            "grid_gap": null,
            "grid_row": null,
            "grid_template_areas": null,
            "grid_template_columns": null,
            "grid_template_rows": null,
            "height": null,
            "justify_content": null,
            "justify_items": null,
            "left": null,
            "margin": null,
            "max_height": null,
            "max_width": null,
            "min_height": null,
            "min_width": null,
            "object_fit": null,
            "object_position": null,
            "order": null,
            "overflow": null,
            "overflow_x": null,
            "overflow_y": null,
            "padding": null,
            "right": null,
            "top": null,
            "visibility": null,
            "width": null
          }
        },
        "74451376bd0b4052baeca6edac97d5c7": {
          "model_module": "@jupyter-widgets/controls",
          "model_name": "DescriptionStyleModel",
          "model_module_version": "1.5.0",
          "state": {
            "_model_module": "@jupyter-widgets/controls",
            "_model_module_version": "1.5.0",
            "_model_name": "DescriptionStyleModel",
            "_view_count": null,
            "_view_module": "@jupyter-widgets/base",
            "_view_module_version": "1.2.0",
            "_view_name": "StyleView",
            "description_width": ""
          }
        },
        "df1ebc756b8e4212bd282f0b80e324d0": {
          "model_module": "@jupyter-widgets/base",
          "model_name": "LayoutModel",
          "model_module_version": "1.2.0",
          "state": {
            "_model_module": "@jupyter-widgets/base",
            "_model_module_version": "1.2.0",
            "_model_name": "LayoutModel",
            "_view_count": null,
            "_view_module": "@jupyter-widgets/base",
            "_view_module_version": "1.2.0",
            "_view_name": "LayoutView",
            "align_content": null,
            "align_items": null,
            "align_self": null,
            "border": null,
            "bottom": null,
            "display": null,
            "flex": null,
            "flex_flow": null,
            "grid_area": null,
            "grid_auto_columns": null,
            "grid_auto_flow": null,
            "grid_auto_rows": null,
            "grid_column": null,
            "grid_gap": null,
            "grid_row": null,
            "grid_template_areas": null,
            "grid_template_columns": null,
            "grid_template_rows": null,
            "height": null,
            "justify_content": null,
            "justify_items": null,
            "left": null,
            "margin": null,
            "max_height": null,
            "max_width": null,
            "min_height": null,
            "min_width": null,
            "object_fit": null,
            "object_position": null,
            "order": null,
            "overflow": null,
            "overflow_x": null,
            "overflow_y": null,
            "padding": null,
            "right": null,
            "top": null,
            "visibility": null,
            "width": null
          }
        },
        "75a5b5af85fd48ca9e9e166af69abcb7": {
          "model_module": "@jupyter-widgets/controls",
          "model_name": "ProgressStyleModel",
          "model_module_version": "1.5.0",
          "state": {
            "_model_module": "@jupyter-widgets/controls",
            "_model_module_version": "1.5.0",
            "_model_name": "ProgressStyleModel",
            "_view_count": null,
            "_view_module": "@jupyter-widgets/base",
            "_view_module_version": "1.2.0",
            "_view_name": "StyleView",
            "bar_color": null,
            "description_width": ""
          }
        },
        "a732940b07d74fcba82695c540d319a0": {
          "model_module": "@jupyter-widgets/base",
          "model_name": "LayoutModel",
          "model_module_version": "1.2.0",
          "state": {
            "_model_module": "@jupyter-widgets/base",
            "_model_module_version": "1.2.0",
            "_model_name": "LayoutModel",
            "_view_count": null,
            "_view_module": "@jupyter-widgets/base",
            "_view_module_version": "1.2.0",
            "_view_name": "LayoutView",
            "align_content": null,
            "align_items": null,
            "align_self": null,
            "border": null,
            "bottom": null,
            "display": null,
            "flex": null,
            "flex_flow": null,
            "grid_area": null,
            "grid_auto_columns": null,
            "grid_auto_flow": null,
            "grid_auto_rows": null,
            "grid_column": null,
            "grid_gap": null,
            "grid_row": null,
            "grid_template_areas": null,
            "grid_template_columns": null,
            "grid_template_rows": null,
            "height": null,
            "justify_content": null,
            "justify_items": null,
            "left": null,
            "margin": null,
            "max_height": null,
            "max_width": null,
            "min_height": null,
            "min_width": null,
            "object_fit": null,
            "object_position": null,
            "order": null,
            "overflow": null,
            "overflow_x": null,
            "overflow_y": null,
            "padding": null,
            "right": null,
            "top": null,
            "visibility": null,
            "width": null
          }
        },
        "316bb9a8653b415c8780253545ddf64a": {
          "model_module": "@jupyter-widgets/controls",
          "model_name": "DescriptionStyleModel",
          "model_module_version": "1.5.0",
          "state": {
            "_model_module": "@jupyter-widgets/controls",
            "_model_module_version": "1.5.0",
            "_model_name": "DescriptionStyleModel",
            "_view_count": null,
            "_view_module": "@jupyter-widgets/base",
            "_view_module_version": "1.2.0",
            "_view_name": "StyleView",
            "description_width": ""
          }
        }
      }
    }
  },
  "cells": [
    {
      "cell_type": "markdown",
      "source": [
        "#Imports\n"
      ],
      "metadata": {
        "id": "_YJDFc4kJwNE"
      }
    },
    {
      "cell_type": "code",
      "execution_count": 1,
      "metadata": {
        "colab": {
          "base_uri": "https://localhost:8080/"
        },
        "id": "nEPIUcA-EigC",
        "outputId": "94dcebc9-fb45-4004-945f-2f5009b2d296"
      },
      "outputs": [
        {
          "output_type": "stream",
          "name": "stdout",
          "text": [
            "Collecting einops\n",
            "  Downloading einops-0.6.1-py3-none-any.whl (42 kB)\n",
            "\u001b[?25l     \u001b[90m━━━━━━━━━━━━━━━━━━━━━━━━━━━━━━━━━━━━━━━━\u001b[0m \u001b[32m0.0/42.2 kB\u001b[0m \u001b[31m?\u001b[0m eta \u001b[36m-:--:--\u001b[0m\r\u001b[2K     \u001b[90m━━━━━━━━━━━━━━━━━━━━━━━━━━━━━━━━━━━━━━━━\u001b[0m \u001b[32m42.2/42.2 kB\u001b[0m \u001b[31m2.4 MB/s\u001b[0m eta \u001b[36m0:00:00\u001b[0m\n",
            "\u001b[?25hInstalling collected packages: einops\n",
            "Successfully installed einops-0.6.1\n",
            "Collecting git+https://github.com/neelnanda-io/neel-plotly.git\n",
            "  Cloning https://github.com/neelnanda-io/neel-plotly.git to /tmp/pip-req-build-fnsien00\n",
            "  Running command git clone --filter=blob:none --quiet https://github.com/neelnanda-io/neel-plotly.git /tmp/pip-req-build-fnsien00\n",
            "  Resolved https://github.com/neelnanda-io/neel-plotly.git to commit 6dc24b26f8dec991908479d7445dae496b3430b7\n",
            "  Preparing metadata (setup.py) ... \u001b[?25l\u001b[?25hdone\n",
            "Requirement already satisfied: einops in /usr/local/lib/python3.10/dist-packages (from neel-plotly==0.0.0) (0.6.1)\n",
            "Requirement already satisfied: numpy in /usr/local/lib/python3.10/dist-packages (from neel-plotly==0.0.0) (1.22.4)\n",
            "Requirement already satisfied: torch in /usr/local/lib/python3.10/dist-packages (from neel-plotly==0.0.0) (2.0.1+cu118)\n",
            "Requirement already satisfied: plotly in /usr/local/lib/python3.10/dist-packages (from neel-plotly==0.0.0) (5.13.1)\n",
            "Requirement already satisfied: tqdm in /usr/local/lib/python3.10/dist-packages (from neel-plotly==0.0.0) (4.65.0)\n",
            "Requirement already satisfied: pandas in /usr/local/lib/python3.10/dist-packages (from neel-plotly==0.0.0) (1.5.3)\n",
            "Requirement already satisfied: python-dateutil>=2.8.1 in /usr/local/lib/python3.10/dist-packages (from pandas->neel-plotly==0.0.0) (2.8.2)\n",
            "Requirement already satisfied: pytz>=2020.1 in /usr/local/lib/python3.10/dist-packages (from pandas->neel-plotly==0.0.0) (2022.7.1)\n",
            "Requirement already satisfied: tenacity>=6.2.0 in /usr/local/lib/python3.10/dist-packages (from plotly->neel-plotly==0.0.0) (8.2.2)\n",
            "Requirement already satisfied: filelock in /usr/local/lib/python3.10/dist-packages (from torch->neel-plotly==0.0.0) (3.12.2)\n",
            "Requirement already satisfied: typing-extensions in /usr/local/lib/python3.10/dist-packages (from torch->neel-plotly==0.0.0) (4.7.1)\n",
            "Requirement already satisfied: sympy in /usr/local/lib/python3.10/dist-packages (from torch->neel-plotly==0.0.0) (1.11.1)\n",
            "Requirement already satisfied: networkx in /usr/local/lib/python3.10/dist-packages (from torch->neel-plotly==0.0.0) (3.1)\n",
            "Requirement already satisfied: jinja2 in /usr/local/lib/python3.10/dist-packages (from torch->neel-plotly==0.0.0) (3.1.2)\n",
            "Requirement already satisfied: triton==2.0.0 in /usr/local/lib/python3.10/dist-packages (from torch->neel-plotly==0.0.0) (2.0.0)\n",
            "Requirement already satisfied: cmake in /usr/local/lib/python3.10/dist-packages (from triton==2.0.0->torch->neel-plotly==0.0.0) (3.25.2)\n",
            "Requirement already satisfied: lit in /usr/local/lib/python3.10/dist-packages (from triton==2.0.0->torch->neel-plotly==0.0.0) (16.0.6)\n",
            "Requirement already satisfied: six>=1.5 in /usr/local/lib/python3.10/dist-packages (from python-dateutil>=2.8.1->pandas->neel-plotly==0.0.0) (1.16.0)\n",
            "Requirement already satisfied: MarkupSafe>=2.0 in /usr/local/lib/python3.10/dist-packages (from jinja2->torch->neel-plotly==0.0.0) (2.1.3)\n",
            "Requirement already satisfied: mpmath>=0.19 in /usr/local/lib/python3.10/dist-packages (from sympy->torch->neel-plotly==0.0.0) (1.3.0)\n",
            "Building wheels for collected packages: neel-plotly\n",
            "  Building wheel for neel-plotly (setup.py) ... \u001b[?25l\u001b[?25hdone\n",
            "  Created wheel for neel-plotly: filename=neel_plotly-0.0.0-py3-none-any.whl size=10186 sha256=61a126d0b07e89d171a9867c380d32a781cf6b54e32e94141f4eb67c39ca8c38\n",
            "  Stored in directory: /tmp/pip-ephem-wheel-cache-1dfkeof3/wheels/32/cf/25/0103b4be02266c40faf008ffa9565a2ba07d1c63118fccc390\n",
            "Successfully built neel-plotly\n",
            "Installing collected packages: neel-plotly\n",
            "Successfully installed neel-plotly-0.0.0\n"
          ]
        }
      ],
      "source": [
        "!pip install einops\n",
        "!pip install git+https://github.com/neelnanda-io/neel-plotly.git"
      ]
    },
    {
      "cell_type": "code",
      "source": [
        "import torch\n",
        "from torch import nn\n",
        "from torch.nn import functional as F\n",
        "\n",
        "from typing import Optional, Callable\n",
        "import seaborn as sns\n",
        "\n",
        "\n",
        "from dataclasses import dataclass, replace\n",
        "import numpy as np\n",
        "import einops\n",
        "\n",
        "from tqdm.notebook import trange\n",
        "\n",
        "import time\n",
        "import pandas as pd\n",
        "\n",
        "import plotly.express as px\n",
        "import plotly.graph_objects as go\n",
        "from plotly.subplots import make_subplots\n",
        "\n",
        "import matplotlib.pyplot as plt\n",
        "import neel_plotly.plot as npx"
      ],
      "metadata": {
        "id": "w7WqsD2AIHmJ"
      },
      "execution_count": 2,
      "outputs": []
    },
    {
      "cell_type": "markdown",
      "source": [
        "#Learning rate schedules\n",
        "\n"
      ],
      "metadata": {
        "id": "07dscxsSKkoz"
      }
    },
    {
      "cell_type": "code",
      "source": [
        "if torch.cuda.is_available():\n",
        "  DEVICE = 'cuda'\n",
        "else:\n",
        "  DEVICE = 'cpu'"
      ],
      "metadata": {
        "id": "0ZPXxCZlKpv5"
      },
      "execution_count": 74,
      "outputs": []
    },
    {
      "cell_type": "code",
      "source": [
        "DEVICE\n"
      ],
      "metadata": {
        "colab": {
          "base_uri": "https://localhost:8080/",
          "height": 0
        },
        "id": "Gxud53ldKrA5",
        "outputId": "87c462d3-e3e9-448a-9108-7be91c3ba8ff"
      },
      "execution_count": 75,
      "outputs": [
        {
          "output_type": "execute_result",
          "data": {
            "text/plain": [
              "'cuda'"
            ],
            "application/vnd.google.colaboratory.intrinsic+json": {
              "type": "string"
            }
          },
          "metadata": {},
          "execution_count": 75
        }
      ]
    },
    {
      "cell_type": "code",
      "source": [
        "def linear_lr(step, steps):\n",
        "  return (1 - (step / steps))\n",
        "\n",
        "def constant_lr(*_):\n",
        "  return 1.0\n",
        "\n",
        "def cosine_decay_lr(step, steps):\n",
        "  return np.cos(0.5 * np.pi * step / (steps - 1))\n"
      ],
      "metadata": {
        "id": "4onTeVmASssX"
      },
      "execution_count": 76,
      "outputs": []
    },
    {
      "cell_type": "code",
      "source": [
        "#@title defining loss\n",
        "import matplotlib.pyplot as plt\n",
        "\n",
        "def optimize(model,\n",
        "             n_batch=1024,\n",
        "             steps=10_000,\n",
        "             print_freq=100,\n",
        "             lr=1e-3,\n",
        "             lr_scale=constant_lr,\n",
        "             hooks=[]):\n",
        "    cfg = model.config\n",
        "    opt = torch.optim.AdamW(list(model.parameters()), lr=lr)\n",
        "\n",
        "    losses = []\n",
        "\n",
        "    start = time.time()\n",
        "    with trange(steps) as t:\n",
        "        for step in t:\n",
        "            step_lr = lr * lr_scale(step, steps)\n",
        "            for group in opt.param_groups:\n",
        "                group['lr'] = step_lr\n",
        "            opt.zero_grad(set_to_none=True)\n",
        "            batch, target = model.generate_batch(n_batch)\n",
        "            hidden, out = model(batch)\n",
        "            error = (model.importance*(target - out)**2)\n",
        "            h1_l1 = torch.abs(hidden.mean((0, 1)).sum())\n",
        "            loss = einops.reduce(error, 'b i f -> i', 'mean').sum() + cfg.hidden_l1*h1_l1\n",
        "            loss.backward()\n",
        "            opt.step()\n",
        "\n",
        "            losses.append(loss.item() / cfg.n_instances)\n",
        "\n",
        "            if hooks:\n",
        "                hook_data = dict(model=model,\n",
        "                                step=step,\n",
        "                                opt=opt,\n",
        "                                error=error,\n",
        "                                loss=loss,\n",
        "                                lr=step_lr)\n",
        "                for h in hooks:\n",
        "                    h(hook_data)\n",
        "            if step % print_freq == 0 or (step + 1 == steps):\n",
        "                t.set_postfix(\n",
        "                    loss=loss.item() / cfg.n_instances,\n",
        "                    lr=step_lr,\n",
        "                )\n",
        "\n",
        "    return losses\n",
        "\n",
        "def compare_models(model1, model2, **kwargs):\n",
        "    losses1 = optimize(model1, **kwargs)\n",
        "    losses2 = optimize(model2, **kwargs)\n",
        "\n",
        "    plt.plot(losses1, label='Model 1')\n",
        "    plt.plot(losses2, label='Model 2')\n",
        "    plt.xlabel('Steps')\n",
        "    plt.ylabel('Loss')\n",
        "    plt.title('Loss vs Steps')\n",
        "    plt.legend()\n",
        "    plt.show()\n"
      ],
      "metadata": {
        "id": "uETcZ50uUFBx",
        "cellView": "form"
      },
      "execution_count": 77,
      "outputs": []
    },
    {
      "cell_type": "markdown",
      "source": [
        "#Visualization functions\n"
      ],
      "metadata": {
        "id": "sHvPTdy4qGO4"
      }
    },
    {
      "cell_type": "code",
      "source": [
        "def visualize_weights(model):\n",
        "    W1 = model.W1.detach().cpu()\n",
        "    W2 = model.W2.detach().cpu()\n",
        "\n",
        "    fig, (ax1, ax2) = plt.subplots(1, 2, figsize=(12, 5))\n",
        "\n",
        "    sns.heatmap(W1.numpy().reshape(model.config.n_instances, -1), ax=ax1, cmap=\"coolwarm\", center=0)\n",
        "    ax1.set_title(\"W1\")\n",
        "\n",
        "    sns.heatmap(W2.numpy().reshape(model.config.n_instances, -1), ax=ax2, cmap=\"coolwarm\", center=0)\n",
        "    ax2.set_title(\"W2\")\n",
        "\n",
        "    plt.show()"
      ],
      "metadata": {
        "id": "n0EkQPveqNf_"
      },
      "execution_count": 10,
      "outputs": []
    },
    {
      "cell_type": "code",
      "source": [
        "def visualize_w_net(model):\n",
        "    W1 = model.W1.detach().cpu()\n",
        "    W2 = model.W2.detach().cpu()\n",
        "\n",
        "    # Initialize an empty tensor to store the results\n",
        "    W_net = torch.zeros(W1.shape[0], W1.shape[1], W2.shape[2])\n",
        "\n",
        "    # Perform the matrix multiplication for each instance\n",
        "    for i in range(W1.shape[0]):\n",
        "        W_net[i] = torch.matmul(W1[i], W2[i])\n",
        "\n",
        "    fig, ax = plt.subplots(figsize=(8, 6))\n",
        "\n",
        "    sns.heatmap(W_net.numpy().reshape(model.config.n_instances, -1), ax=ax, cmap=\"coolwarm\", center=0)\n",
        "    ax.set_title(\"W_net\")\n",
        "\n",
        "    plt.show()\n"
      ],
      "metadata": {
        "id": "x43ftOC_qJwb"
      },
      "execution_count": 11,
      "outputs": []
    },
    {
      "cell_type": "code",
      "source": [
        "def visualize_weights_stacked(model):\n",
        "    W_net = torch.matmul(model.W1.detach().cpu(), model.W2.detach().cpu())  # compute W_net\n",
        "    W_net = W_net.numpy().reshape(model.config.n_instances, -1)  # reshape to 2D array\n",
        "    n_neurons = W_net.shape[1]\n",
        "\n",
        "    # Create a figure and axes\n",
        "    fig, ax = plt.subplots(figsize=(10, 6))\n",
        "\n",
        "    # For each neuron, create a stacked bar plot\n",
        "    for i in range(n_neurons):\n",
        "        weights = W_net[:, i]\n",
        "        positive_weights = np.maximum(weights, 0)\n",
        "        negative_weights = np.minimum(weights, 0)\n",
        "\n",
        "        # Create stacked bar for positive weights\n",
        "        ax.bar(i, positive_weights, color=plt.cm.viridis(np.linspace(0, 1, len(positive_weights))))\n",
        "\n",
        "        # Create stacked bar for negative weights\n",
        "        ax.bar(i, negative_weights, color=plt.cm.viridis(np.linspace(0, 1, len(negative_weights))))\n",
        "\n",
        "    # Set labels and title\n",
        "    ax.set_xlabel('Neurons')\n",
        "    ax.set_ylabel('Weights')\n",
        "    ax.set_title('Per-neuron stacked bar plot of weights')\n",
        "    plt.show()\n",
        "\n"
      ],
      "metadata": {
        "id": "Pe_ZAbYBwnA7"
      },
      "execution_count": 35,
      "outputs": []
    },
    {
      "cell_type": "code",
      "source": [],
      "metadata": {
        "id": "C4a0HWsUwm7f"
      },
      "execution_count": null,
      "outputs": []
    },
    {
      "cell_type": "markdown",
      "source": [
        "#Target functions"
      ],
      "metadata": {
        "id": "pj5__Y93KcEG"
      }
    },
    {
      "cell_type": "markdown",
      "source": [
        "##z = x AND y"
      ],
      "metadata": {
        "id": "7kXpiwbw2dEN"
      }
    },
    {
      "cell_type": "markdown",
      "source": [
        "###Define model"
      ],
      "metadata": {
        "id": "TU568ksF2nQz"
      }
    },
    {
      "cell_type": "code",
      "source": [
        "#@title Model\n",
        "\n",
        "@dataclass\n",
        "class Config:\n",
        "  n_features: int\n",
        "  n_hidden: int\n",
        "\n",
        "  # We could potentially use torch.vmap instead.\n",
        "  n_instances: int\n",
        "\n",
        "  #New configurable parameters\n",
        "  dropout: float = 0\n",
        "  activation: Callable = F.relu\n",
        "  hidden_l1: int = 0\n",
        "\n",
        "class Model(nn.Module):\n",
        "    def __init__(self,\n",
        "                 config,\n",
        "                 feature_probability: Optional[torch.Tensor] = None,\n",
        "                 importance: Optional[torch.Tensor] = None,\n",
        "                 device='cuda'):\n",
        "        super().__init__()\n",
        "        self.config = config\n",
        "        self.W1 = nn.Parameter(torch.empty((config.n_instances, config.n_features, config.n_hidden), device=device))\n",
        "        self.W2 = nn.Parameter(torch.empty((config.n_instances, config.n_hidden, config.n_features), device=device))\n",
        "        nn.init.xavier_normal_(self.W1)\n",
        "        nn.init.xavier_normal_(self.W2)\n",
        "        self.b_final = nn.Parameter(torch.zeros((config.n_instances, config.n_features), device=device))\n",
        "\n",
        "        if feature_probability is None:\n",
        "          feature_probability = torch.ones(())\n",
        "        self.feature_probability = feature_probability.to(device)\n",
        "        if importance is None:\n",
        "          importance = torch.ones(())\n",
        "        self.importance = importance.to(device)\n",
        "\n",
        "    def forward(self, features):\n",
        "        # features: [..., instance, n_features]\n",
        "        # W1: [instance, n_features, n_hidden]\n",
        "        hidden = torch.einsum(\"...if,ifh->...ih\", features, self.W1)\n",
        "        hidden = self.config.activation(hidden)  # Apply activation function to the hidden layer\n",
        "\n",
        "        if self.config.dropout!=0:\n",
        "            hidden = torch.nn.functional.dropout(hidden, p=self.config.dropout)\n",
        "        # W2: [instance, n_hidden, n_features]\n",
        "        out = torch.einsum(\"...ih,ihf->...if\", hidden, self.W2)\n",
        "        out = out + self.b_final\n",
        "        out = self.config.activation(out)\n",
        "        return hidden, out\n",
        "\n",
        "    def generate_batch(self, n_batch):\n",
        "        feat = torch.randint(2, (n_batch, self.config.n_instances, self.config.n_features), device=self.W1.device)\n",
        "        batch = torch.where(\n",
        "            torch.rand((n_batch, self.config.n_instances, self.config.n_features), device=self.W1.device) <= self.feature_probability,\n",
        "            feat,\n",
        "            torch.zeros((), device=self.W1.device),\n",
        "        )\n",
        "        target = (batch[..., 0] * batch[..., 1]).unsqueeze(-1)\n",
        "        return batch, target\n"
      ],
      "metadata": {
        "id": "qJONtI9lSr75",
        "cellView": "form"
      },
      "execution_count": 72,
      "outputs": []
    },
    {
      "cell_type": "markdown",
      "source": [
        "###Train models and visualize loss curves"
      ],
      "metadata": {
        "id": "9zPXDCOy2qeQ"
      }
    },
    {
      "cell_type": "code",
      "source": [
        "# Instantiate two models\n",
        "configs = {\n",
        "    \"ReLU\": Config(\n",
        "        n_features=2,\n",
        "        n_hidden=2,\n",
        "        n_instances=5,\n",
        "    ),\n",
        "    \"GeLU\": Config(\n",
        "        n_features=2,\n",
        "        n_hidden=2,\n",
        "        n_instances=5,\n",
        "        activation=F.gelu,\n",
        "    )\n",
        "}\n",
        "\n",
        "models = {}\n",
        "for name, config in configs.items():\n",
        "    models[name] = Model(\n",
        "        config=config,\n",
        "        device=DEVICE,\n",
        "        importance=(0.9 ** torch.arange(config.n_features))[None, :],\n",
        "        feature_probability=(20 ** -torch.linspace(0, 1, config.n_instances))[:, None]\n",
        "    )\n",
        "\n",
        "# Optimize the models and store the loss histories\n",
        "loss_histories = {}\n",
        "for name, model in models.items():\n",
        "    print(f\"Optimizing model {name}\")\n",
        "    loss_histories[name] = optimize(model, n_batch=1024, steps=10_000, print_freq=100, lr=1e-3, lr_scale=constant_lr)\n",
        "# Plot loss curves on the same graph\n",
        "for name, losses in loss_histories.items():\n",
        "    plt.plot(losses, label=name)\n",
        "plt.xlabel('Steps')\n",
        "plt.ylabel('Loss')\n",
        "plt.title('Loss vs Steps')\n",
        "plt.legend()\n",
        "plt.show()"
      ],
      "metadata": {
        "id": "z2xoU8SIYA5q",
        "colab": {
          "base_uri": "https://localhost:8080/",
          "height": 0,
          "referenced_widgets": [
            "2622f78652734a3eaf7979749cc89635",
            "7d5a7e9781b24a50b260bb265bec6f93",
            "344ca83d360546cd96d48bb7579ff946",
            "da93ce6557c043158d01ddac6ae2b310",
            "301fafa9c7084ece9ed571392d7784f0",
            "0f9a57503b544ad0bed7809fc40bdf85",
            "589c28d06cb24f89a789af72f3728a49",
            "1404989ae34249919fe3261bef28293b",
            "c8a1c0e5107e4da4a8bce9fd7d3b04f3",
            "ae6c90dc315d442781584fe80004e53f",
            "6d991c00ebb24397bf7dc58777e65587",
            "27923f778200467f965022266f80c854",
            "cba7194c7d5d4886925376eddd710d45",
            "2e41b22e4adb4291a235c403a5ec2512",
            "7893ec58c9cd48dfbfd1eb4f07db0b17",
            "e1b71f286b20463bb4212b431c645171",
            "b02d5450b2cf48f49abc031aab938462",
            "b66123b173a14d959482f36c2d6eef5c",
            "7b91e9cdcfbf48d98109d283f2f13130",
            "a48e5b50a0484801896e73252bc038e4",
            "ffec539e77194015b147eecc5aba5bac",
            "ab91451bad524c839023c285c2659752"
          ]
        },
        "outputId": "9b6bdac8-b308-4414-a6fe-e3f1ec56ade5"
      },
      "execution_count": 78,
      "outputs": [
        {
          "output_type": "stream",
          "name": "stdout",
          "text": [
            "Optimizing model ReLU\n"
          ]
        },
        {
          "output_type": "display_data",
          "data": {
            "text/plain": [
              "  0%|          | 0/10000 [00:00<?, ?it/s]"
            ],
            "application/vnd.jupyter.widget-view+json": {
              "version_major": 2,
              "version_minor": 0,
              "model_id": "2622f78652734a3eaf7979749cc89635"
            }
          },
          "metadata": {}
        },
        {
          "output_type": "stream",
          "name": "stdout",
          "text": [
            "Optimizing model GeLU\n"
          ]
        },
        {
          "output_type": "display_data",
          "data": {
            "text/plain": [
              "  0%|          | 0/10000 [00:00<?, ?it/s]"
            ],
            "application/vnd.jupyter.widget-view+json": {
              "version_major": 2,
              "version_minor": 0,
              "model_id": "27923f778200467f965022266f80c854"
            }
          },
          "metadata": {}
        },
        {
          "output_type": "display_data",
          "data": {
            "text/plain": [
              "<Figure size 640x480 with 1 Axes>"
            ],
            "image/png": "[encoded data removed]"
          },
          "metadata": {}
        }
      ]
    },
    {
      "cell_type": "markdown",
      "source": [
        "###Visualize weights"
      ],
      "metadata": {
        "id": "vBCUAc0G2uw_"
      }
    },
    {
      "cell_type": "code",
      "source": [
        "# Visualize W1, W2, and W_net for both models\n",
        "for name, model in models.items():\n",
        "    print(f\"Visualizing weights for model {name}\")\n",
        "    visualize_weights(model)\n",
        "    visualize_w_net(model)\n",
        "\n",
        "# Visualize W_net for both models\n",
        "for name, model in models.items():\n",
        "    print(f\"Visualizing weights for model {name}\")\n",
        "    visualize_weights_stacked(model)\n"
      ],
      "metadata": {
        "colab": {
          "base_uri": "https://localhost:8080/",
          "height": 1000
        },
        "id": "AiaKWQV-ZWpZ",
        "outputId": "ef1312c3-8efc-49e4-c4c9-5ba6eaf18a73"
      },
      "execution_count": 79,
      "outputs": [
        {
          "output_type": "stream",
          "name": "stdout",
          "text": [
            "Visualizing weights for model ReLU\n"
          ]
        },
        {
          "output_type": "display_data",
          "data": {
            "text/plain": [
              "<Figure size 1200x500 with 4 Axes>"
            ],
            "image/png": "[encoded data removed]"
          },
          "metadata": {}
        },
        {
          "output_type": "display_data",
          "data": {
            "text/plain": [
              "<Figure size 800x600 with 2 Axes>"
            ],
            "image/png": "[encoded data removed]"
          },
          "metadata": {}
        },
        {
          "output_type": "stream",
          "name": "stdout",
          "text": [
            "Visualizing weights for model GeLU\n"
          ]
        },
        {
          "output_type": "display_data",
          "data": {
            "text/plain": [
              "<Figure size 1200x500 with 4 Axes>"
            ],
            "image/png": "[encoded data removed]"
          },
          "metadata": {}
        },
        {
          "output_type": "display_data",
          "data": {
            "text/plain": [
              "<Figure size 800x600 with 2 Axes>"
            ],
            "image/png": "[encoded data removed]"
          },
          "metadata": {}
        },
        {
          "output_type": "stream",
          "name": "stdout",
          "text": [
            "Visualizing weights for model ReLU\n"
          ]
        },
        {
          "output_type": "display_data",
          "data": {
            "text/plain": [
              "<Figure size 1000x600 with 1 Axes>"
            ],
            "image/png": "[encoded data removed]"
          },
          "metadata": {}
        },
        {
          "output_type": "stream",
          "name": "stdout",
          "text": [
            "Visualizing weights for model GeLU\n"
          ]
        },
        {
          "output_type": "display_data",
          "data": {
            "text/plain": [
              "<Figure size 1000x600 with 1 Axes>"
            ],
            "image/png": "[encoded data removed]"
          },
          "metadata": {}
        }
      ]
    },
    {
      "cell_type": "markdown",
      "source": [
        "##Logical OR"
      ],
      "metadata": {
        "id": "5l2TI5OdfoLm"
      }
    },
    {
      "cell_type": "markdown",
      "source": [
        "###Model definition"
      ],
      "metadata": {
        "id": "dcnWpD-024Xn"
      }
    },
    {
      "cell_type": "code",
      "source": [
        "#@title Model\n",
        "\n",
        "@dataclass\n",
        "class Config:\n",
        "  n_features: int\n",
        "  n_hidden: int\n",
        "\n",
        "  # We could potentially use torch.vmap instead.\n",
        "  n_instances: int\n",
        "\n",
        "  #New configurable parameters\n",
        "  dropout: float = 0\n",
        "  activation: Callable = F.relu\n",
        "  hidden_l1: int = 0\n",
        "\n",
        "class Model(nn.Module):\n",
        "    def __init__(self,\n",
        "                 config,\n",
        "                 feature_probability: Optional[torch.Tensor] = None,\n",
        "                 importance: Optional[torch.Tensor] = None,\n",
        "                 device='cuda'):\n",
        "        super().__init__()\n",
        "        self.config = config\n",
        "        self.W1 = nn.Parameter(torch.empty((config.n_instances, config.n_features, config.n_hidden), device=device))\n",
        "        self.W2 = nn.Parameter(torch.empty((config.n_instances, config.n_hidden, config.n_features), device=device))\n",
        "        nn.init.xavier_normal_(self.W1)\n",
        "        nn.init.xavier_normal_(self.W2)\n",
        "        self.b_final = nn.Parameter(torch.zeros((config.n_instances, config.n_features), device=device))\n",
        "\n",
        "        if feature_probability is None:\n",
        "          feature_probability = torch.ones(())\n",
        "        self.feature_probability = feature_probability.to(device)\n",
        "        if importance is None:\n",
        "          importance = torch.ones(())\n",
        "        self.importance = importance.to(device)\n",
        "\n",
        "    def forward(self, features):\n",
        "        # features: [..., instance, n_features]\n",
        "        # W1: [instance, n_features, n_hidden]\n",
        "        hidden = torch.einsum(\"...if,ifh->...ih\", features, self.W1)\n",
        "        hidden = self.config.activation(hidden)  # Apply activation function to the hidden layer\n",
        "\n",
        "        if self.config.dropout!=0:\n",
        "            hidden = torch.nn.functional.dropout(hidden, p=self.config.dropout)\n",
        "        # W2: [instance, n_hidden, n_features]\n",
        "        out = torch.einsum(\"...ih,ihf->...if\", hidden, self.W2)\n",
        "        out = out + self.b_final\n",
        "        out = self.config.activation(out)\n",
        "        return hidden, out\n",
        "\n",
        "    def generate_batch(self, n_batch):\n",
        "        feat = torch.randint(2, (n_batch, self.config.n_instances, self.config.n_features), device=self.W1.device)\n",
        "        batch = torch.where(\n",
        "            torch.rand((n_batch, self.config.n_instances, self.config.n_features), device=self.W1.device) <= self.feature_probability,\n",
        "            feat,\n",
        "            torch.zeros((), device=self.W1.device),\n",
        "        )\n",
        "        target = torch.max(batch[..., 0], batch[..., 1]).unsqueeze(-1)\n",
        "\n",
        "        return batch, target\n"
      ],
      "metadata": {
        "cellView": "form",
        "id": "9RKqZM1wfpZA"
      },
      "execution_count": 80,
      "outputs": []
    },
    {
      "cell_type": "markdown",
      "source": [
        "###Instantiate and train models"
      ],
      "metadata": {
        "id": "jWC7KrDY27GC"
      }
    },
    {
      "cell_type": "code",
      "source": [
        "# Instantiate two models\n",
        "configs = {\n",
        "    \"ReLU\": Config(\n",
        "        n_features=2,\n",
        "        n_hidden=2,\n",
        "        n_instances=5,\n",
        "    ),\n",
        "    \"GeLU\": Config(\n",
        "        n_features=2,\n",
        "        n_hidden=2,\n",
        "        n_instances=5,\n",
        "        activation=F.gelu,\n",
        "    )\n",
        "}\n",
        "\n",
        "models = {}\n",
        "for name, config in configs.items():\n",
        "    models[name] = Model(\n",
        "        config=config,\n",
        "        device=DEVICE,\n",
        "        importance=(0.9 ** torch.arange(config.n_features))[None, :],\n",
        "        feature_probability=(20 ** -torch.linspace(0, 1, config.n_instances))[:, None]\n",
        "    )\n",
        "# Optimize the models and store the loss histories\n",
        "loss_histories = {}\n",
        "for name, model in models.items():\n",
        "    print(f\"Optimizing model {name}\")\n",
        "    loss_histories[name] = optimize(model, n_batch=1024, steps=10_000, print_freq=100, lr=1e-3, lr_scale=constant_lr)\n"
      ],
      "metadata": {
        "colab": {
          "base_uri": "https://localhost:8080/",
          "height": 0,
          "referenced_widgets": [
            "48eb498f83204f189fa86673cb400b1e",
            "4ae1a79cd0b948eeb4475a3df7d21e45",
            "bddc5414745644edb92dc85afd77c22f",
            "b354eeaba07d41379c2eac20a2339228",
            "e689074a07aa480b877bf0d80ab53bb0",
            "dc9e3ffdcf6a496d870c0c26ab687636",
            "682a5b75fbdb4d79a251d44a16af56eb",
            "fd7dcb3a2f2346e69e11b1bf8feae536",
            "305ebbac443841aca47d7e7f0376d105",
            "adafa86301f845ca82475dfaeca785d5",
            "508f54344d0e417fb89fd75d613e004a",
            "02fe9088fe5b45c8bdf31c14afca9348",
            "8b171ed662654b7197bb01673946716c",
            "f4bceb76acfb45d9abdfb5f059812761",
            "63a88236edd8490dace0078d7f2e53c1",
            "75975e1ef8b24c68834fed1cfdfcf734",
            "0585afaffd784ef9aac824e641576324",
            "956cb435394b4f1a83d429e2d803c356",
            "95679a9d57eb49ab9f9ad58758c85c27",
            "7c484f10554b48219c6fc0d26d5e8477",
            "40ab13ac18fd4f68b4cfb039468e2de2",
            "5866605c90f24a5086dd370b124cd4fc"
          ]
        },
        "id": "XTsfCyuDf5vS",
        "outputId": "cb6e83fc-325c-48eb-8575-8244645175fc"
      },
      "execution_count": 40,
      "outputs": [
        {
          "output_type": "stream",
          "name": "stdout",
          "text": [
            "Optimizing model ReLU\n"
          ]
        },
        {
          "output_type": "display_data",
          "data": {
            "text/plain": [
              "  0%|          | 0/10000 [00:00<?, ?it/s]"
            ],
            "application/vnd.jupyter.widget-view+json": {
              "version_major": 2,
              "version_minor": 0,
              "model_id": "48eb498f83204f189fa86673cb400b1e"
            }
          },
          "metadata": {}
        },
        {
          "output_type": "stream",
          "name": "stdout",
          "text": [
            "Optimizing model GeLU\n"
          ]
        },
        {
          "output_type": "display_data",
          "data": {
            "text/plain": [
              "  0%|          | 0/10000 [00:00<?, ?it/s]"
            ],
            "application/vnd.jupyter.widget-view+json": {
              "version_major": 2,
              "version_minor": 0,
              "model_id": "02fe9088fe5b45c8bdf31c14afca9348"
            }
          },
          "metadata": {}
        }
      ]
    },
    {
      "cell_type": "markdown",
      "source": [
        "###Visualize loss curves"
      ],
      "metadata": {
        "id": "-WFGZnBF2-Fd"
      }
    },
    {
      "cell_type": "code",
      "source": [
        "# Plot loss curves on the same graph\n",
        "for name, losses in loss_histories.items():\n",
        "    plt.plot(losses, label=name)\n",
        "plt.xlabel('Steps')\n",
        "plt.ylabel('Loss')\n",
        "plt.title('Loss vs Steps')\n",
        "plt.legend()\n",
        "plt.show()"
      ],
      "metadata": {
        "colab": {
          "base_uri": "https://localhost:8080/",
          "height": 472
        },
        "id": "GZn59UF-gC9H",
        "outputId": "4ef3a63c-e7e0-4a89-ce77-4a151fa02b79"
      },
      "execution_count": 41,
      "outputs": [
        {
          "output_type": "display_data",
          "data": {
            "text/plain": [
              "<Figure size 640x480 with 1 Axes>"
            ],
            "image/png": "[encoded data removed]"
          },
          "metadata": {}
        }
      ]
    },
    {
      "cell_type": "markdown",
      "source": [
        "###Visualize weights"
      ],
      "metadata": {
        "id": "tNkx6ACh3Aji"
      }
    },
    {
      "cell_type": "code",
      "source": [
        "# Visualize W1, W2, and W_net for both models\n",
        "for name, model in models.items():\n",
        "    print(f\"Visualizing weights for model {name}\")\n",
        "    visualize_weights(model)\n",
        "    visualize_w_net(model)\n",
        "\n",
        "# Visualize W_net for both models\n",
        "for name, model in models.items():\n",
        "    print(f\"Visualizing weights for model {name}\")\n",
        "    visualize_weights_stacked(model)\n"
      ],
      "metadata": {
        "colab": {
          "base_uri": "https://localhost:8080/",
          "height": 1000
        },
        "id": "Cck0Zhq2gQew",
        "outputId": "ba1200b3-2ccb-47cb-9524-b30405f2dc09"
      },
      "execution_count": 42,
      "outputs": [
        {
          "output_type": "stream",
          "name": "stdout",
          "text": [
            "Visualizing weights for model ReLU\n"
          ]
        },
        {
          "output_type": "display_data",
          "data": {
            "text/plain": [
              "<Figure size 1200x500 with 4 Axes>"
            ],
            "image/png": "[encoded data removed]"
          },
          "metadata": {}
        },
        {
          "output_type": "display_data",
          "data": {
            "text/plain": [
              "<Figure size 800x600 with 2 Axes>"
            ],
            "image/png": "[encoded data removed]"
          },
          "metadata": {}
        },
        {
          "output_type": "stream",
          "name": "stdout",
          "text": [
            "Visualizing weights for model GeLU\n"
          ]
        },
        {
          "output_type": "display_data",
          "data": {
            "text/plain": [
              "<Figure size 1200x500 with 4 Axes>"
            ],
            "image/png": "[encoded data removed]"
          },
          "metadata": {}
        },
        {
          "output_type": "display_data",
          "data": {
            "text/plain": [
              "<Figure size 800x600 with 2 Axes>"
            ],
            "image/png": "[encoded data removed]"
          },
          "metadata": {}
        },
        {
          "output_type": "stream",
          "name": "stdout",
          "text": [
            "Visualizing weights for model ReLU\n"
          ]
        },
        {
          "output_type": "display_data",
          "data": {
            "text/plain": [
              "<Figure size 1000x600 with 1 Axes>"
            ],
            "image/png": "[encoded data removed]"
          },
          "metadata": {}
        },
        {
          "output_type": "stream",
          "name": "stdout",
          "text": [
            "Visualizing weights for model GeLU\n"
          ]
        },
        {
          "output_type": "display_data",
          "data": {
            "text/plain": [
              "<Figure size 1000x600 with 1 Axes>"
            ],
            "image/png": "[encoded data removed]"
          },
          "metadata": {}
        }
      ]
    },
    {
      "cell_type": "markdown",
      "source": [
        "##max(|x|,|y|)"
      ],
      "metadata": {
        "id": "tj_ylNaFg2eL"
      }
    },
    {
      "cell_type": "markdown",
      "source": [
        "###Define model"
      ],
      "metadata": {
        "id": "ToNfvr-93FJT"
      }
    },
    {
      "cell_type": "code",
      "source": [
        "#@title Model\n",
        "\n",
        "@dataclass\n",
        "class Config:\n",
        "  n_features: int\n",
        "  n_hidden: int\n",
        "\n",
        "  # We could potentially use torch.vmap instead.\n",
        "  n_instances: int\n",
        "\n",
        "  #New configurable parameters\n",
        "  dropout: float = 0\n",
        "  activation: Callable = F.relu\n",
        "  hidden_l1: int = 0\n",
        "\n",
        "class Model(nn.Module):\n",
        "    def __init__(self,\n",
        "                 config,\n",
        "                 feature_probability: Optional[torch.Tensor] = None,\n",
        "                 importance: Optional[torch.Tensor] = None,\n",
        "                 device='cuda'):\n",
        "        super().__init__()\n",
        "        self.config = config\n",
        "        self.W1 = nn.Parameter(torch.empty((config.n_instances, config.n_features, config.n_hidden), device=device))\n",
        "        self.W2 = nn.Parameter(torch.empty((config.n_instances, config.n_hidden, config.n_features), device=device))\n",
        "        nn.init.xavier_normal_(self.W1)\n",
        "        nn.init.xavier_normal_(self.W2)\n",
        "        self.b_final = nn.Parameter(torch.zeros((config.n_instances, config.n_features), device=device))\n",
        "\n",
        "        if feature_probability is None:\n",
        "          feature_probability = torch.ones(())\n",
        "        self.feature_probability = feature_probability.to(device)\n",
        "        if importance is None:\n",
        "          importance = torch.ones(())\n",
        "        self.importance = importance.to(device)\n",
        "\n",
        "    def forward(self, features):\n",
        "        # features: [..., instance, n_features]\n",
        "        # W1: [instance, n_features, n_hidden]\n",
        "        hidden = torch.einsum(\"...if,ifh->...ih\", features, self.W1)\n",
        "        hidden = self.config.activation(hidden)  # Apply activation function to the hidden layer\n",
        "\n",
        "        if self.config.dropout!=0:\n",
        "            hidden = torch.nn.functional.dropout(hidden, p=self.config.dropout)\n",
        "        # W2: [instance, n_hidden, n_features]\n",
        "        out = torch.einsum(\"...ih,ihf->...if\", hidden, self.W2)\n",
        "        out = out + self.b_final\n",
        "        out = self.config.activation(out)\n",
        "        return hidden, out\n",
        "\n",
        "    def generate_batch(self, n_batch):\n",
        "        feat = torch.randint(-1, 2, (n_batch, self.config.n_instances, self.config.n_features), device=self.W1.device)\n",
        "\n",
        "        batch = torch.where(\n",
        "            torch.rand((n_batch, self.config.n_instances, self.config.n_features), device=self.W1.device) <= self.feature_probability,\n",
        "            feat,\n",
        "            torch.zeros((), device=self.W1.device),\n",
        "        )\n",
        "        target = torch.max(torch.abs(batch[..., 0]), torch.abs(batch[..., 1])).unsqueeze(-1)\n",
        "\n",
        "\n",
        "        return batch, target\n"
      ],
      "metadata": {
        "cellView": "form",
        "id": "Jql3ovYwg2VT"
      },
      "execution_count": 25,
      "outputs": []
    },
    {
      "cell_type": "markdown",
      "source": [
        "###train"
      ],
      "metadata": {
        "id": "EXRWsy_x3XsP"
      }
    },
    {
      "cell_type": "code",
      "source": [
        "# Instantiate two models\n",
        "configs = {\n",
        "    \"ReLU\": Config(\n",
        "        n_features=2,\n",
        "        n_hidden=2,\n",
        "        n_instances=5,\n",
        "    ),\n",
        "    \"GeLU\": Config(\n",
        "        n_features=2,\n",
        "        n_hidden=2,\n",
        "        n_instances=5,\n",
        "        activation=F.gelu,\n",
        "    )\n",
        "}\n",
        "\n",
        "models = {}\n",
        "for name, config in configs.items():\n",
        "    models[name] = Model(\n",
        "        config=config,\n",
        "        device=DEVICE,\n",
        "        importance=(0.9 ** torch.arange(config.n_features))[None, :],\n",
        "        feature_probability=(20 ** -torch.linspace(0, 1, config.n_instances))[:, None]\n",
        "    )\n",
        "# Optimize the models and store the loss histories\n",
        "loss_histories = {}\n",
        "for name, model in models.items():\n",
        "    print(f\"Optimizing model {name}\")\n",
        "    loss_histories[name] = optimize(model, n_batch=1024, steps=10_000, print_freq=100, lr=1e-3, lr_scale=constant_lr)\n"
      ],
      "metadata": {
        "colab": {
          "base_uri": "https://localhost:8080/",
          "height": 0,
          "referenced_widgets": [
            "b53ffe029eb94ff7a20cb6d6c6d6eefc",
            "b8f2b44c5b21458d801058a2c483822d",
            "1a9d007767164c77a32bed2c18328a84",
            "2481319d4b5c4323820392fbd073afa5",
            "9904fad454824ab68f343a328298106f",
            "cebfa7c5c72e4764a776453ba29245f8",
            "d54c0965a69f4a1ba12f3e8b046ce9f4",
            "90fcc1e36de4402f965d8828c0ab9283",
            "04cc769a7bd641a687bdb46c9421fdec",
            "f79654eaf46d451db5f71f87e4584162",
            "278a20813bb24df198506fe498497abf",
            "c0885dc7d11342a3af546e644d361f0f",
            "52fec71d565646c8b81334e42f930c9d",
            "fc87dae336af45c68205371d4126cc42",
            "2951c6d013ea492d84d05fc980a36cfd",
            "d9ddc3993e17477788bf4286f6fcfa5d",
            "58a8344cfe6f4b15a59f37a06005040e",
            "cd09c102738f4006803d960b128a530b",
            "eb46f26da2e54d489d8e31085838f5db",
            "bfaf21b30149486485dbe72390c103d4",
            "b6857c133e194699a0c73cfd7ac4c266",
            "24499a6ce2b5411096bd615aa081dba4"
          ]
        },
        "id": "YHCuwKoXhJBK",
        "outputId": "0954bb87-0c15-44f2-9406-aea2e93b57c9"
      },
      "execution_count": 26,
      "outputs": [
        {
          "output_type": "stream",
          "name": "stdout",
          "text": [
            "Optimizing model ReLU\n"
          ]
        },
        {
          "output_type": "display_data",
          "data": {
            "text/plain": [
              "  0%|          | 0/10000 [00:00<?, ?it/s]"
            ],
            "application/vnd.jupyter.widget-view+json": {
              "version_major": 2,
              "version_minor": 0,
              "model_id": "b53ffe029eb94ff7a20cb6d6c6d6eefc"
            }
          },
          "metadata": {}
        },
        {
          "output_type": "stream",
          "name": "stdout",
          "text": [
            "Optimizing model GeLU\n"
          ]
        },
        {
          "output_type": "display_data",
          "data": {
            "text/plain": [
              "  0%|          | 0/10000 [00:00<?, ?it/s]"
            ],
            "application/vnd.jupyter.widget-view+json": {
              "version_major": 2,
              "version_minor": 0,
              "model_id": "c0885dc7d11342a3af546e644d361f0f"
            }
          },
          "metadata": {}
        }
      ]
    },
    {
      "cell_type": "markdown",
      "source": [
        "###Visualize loss and weights"
      ],
      "metadata": {
        "id": "O0iW1SO63Zza"
      }
    },
    {
      "cell_type": "code",
      "source": [
        "# Plot loss curves on the same graph\n",
        "for name, losses in loss_histories.items():\n",
        "    plt.plot(losses, label=name)\n",
        "plt.xlabel('Steps')\n",
        "plt.ylabel('Loss')\n",
        "plt.title('Loss vs Steps')\n",
        "plt.legend()\n",
        "plt.show()\n",
        "# Visualize W1, W2, and W_net for both models\n",
        "for name, model in models.items():\n",
        "    print(f\"Visualizing weights for model {name}\")\n",
        "    visualize_weights(model)\n",
        "    visualize_w_net(model)"
      ],
      "metadata": {
        "colab": {
          "base_uri": "https://localhost:8080/",
          "height": 1000
        },
        "id": "O8cZ2bmwhOhy",
        "outputId": "d8bb5f66-951e-4fa4-a289-03a52401cd9f"
      },
      "execution_count": 27,
      "outputs": [
        {
          "output_type": "display_data",
          "data": {
            "text/plain": [
              "<Figure size 640x480 with 1 Axes>"
            ],
            "image/png": "[encoded data removed]"
          },
          "metadata": {}
        },
        {
          "output_type": "stream",
          "name": "stdout",
          "text": [
            "Visualizing weights for model ReLU\n"
          ]
        },
        {
          "output_type": "display_data",
          "data": {
            "text/plain": [
              "<Figure size 1200x500 with 4 Axes>"
            ],
            "image/png": "[encoded data removed]"
          },
          "metadata": {}
        },
        {
          "output_type": "display_data",
          "data": {
            "text/plain": [
              "<Figure size 800x600 with 2 Axes>"
            ],
            "image/png": "[encoded data removed]"
          },
          "metadata": {}
        },
        {
          "output_type": "stream",
          "name": "stdout",
          "text": [
            "Visualizing weights for model GeLU\n"
          ]
        },
        {
          "output_type": "display_data",
          "data": {
            "text/plain": [
              "<Figure size 1200x500 with 4 Axes>"
            ],
            "image/png": "[encoded data removed]"
          },
          "metadata": {}
        },
        {
          "output_type": "display_data",
          "data": {
            "text/plain": [
              "<Figure size 800x600 with 2 Axes>"
            ],
            "image/png": "[encoded data removed]"
          },
          "metadata": {}
        }
      ]
    },
    {
      "cell_type": "markdown",
      "source": [
        "## y = abs(x)"
      ],
      "metadata": {
        "id": "2WgKoaLdq96F"
      }
    },
    {
      "cell_type": "markdown",
      "source": [
        "###Define training"
      ],
      "metadata": {
        "id": "ca8PDpRk3nvD"
      }
    },
    {
      "cell_type": "code",
      "source": [
        "def generate_batch(self, n_batch):\n",
        "    feat = torch.randint(-1, 2, (n_batch, self.config.n_instances, self.config.n_features), device=self.W1.device)\n",
        "\n",
        "    batch = torch.where(\n",
        "        torch.rand((n_batch, self.config.n_instances, self.config.n_features), device=self.W1.device) <= self.feature_probability,\n",
        "        feat,\n",
        "        torch.zeros((), device=self.W1.device),\n",
        "    )\n",
        "    target = torch.abs(batch[..., 0]).unsqueeze(-1)  # Change here: calculate absolute value for single feature\n",
        "\n",
        "    return batch, target\n"
      ],
      "metadata": {
        "id": "iYOPaZRtwLws"
      },
      "execution_count": 81,
      "outputs": []
    },
    {
      "cell_type": "markdown",
      "source": [
        "###train models"
      ],
      "metadata": {
        "id": "mT0QkH4Z3pqf"
      }
    },
    {
      "cell_type": "code",
      "source": [
        "# Instantiate the models with new parameters\n",
        "configs = {\n",
        "    \"ReLU\": Config(\n",
        "        n_features=3,\n",
        "        n_hidden=6,\n",
        "        n_instances=5,\n",
        "    ),\n",
        "    \"GeLU\": Config(\n",
        "        n_features=3,\n",
        "        n_hidden=6,\n",
        "        n_instances=5,\n",
        "        activation=F.gelu,\n",
        "    )\n",
        "}\n",
        "\n",
        "models = {}\n",
        "for name, config in configs.items():\n",
        "    models[name] = Model(\n",
        "        config=config,\n",
        "        device=DEVICE,\n",
        "        importance=torch.ones(config.n_features),\n",
        "    )\n",
        "\n",
        "# Update the generate_batch method\n",
        "def generate_batch(self, n_batch):\n",
        "    feat = torch.rand((n_batch, self.config.n_instances, self.config.n_features), device=self.W1.device) * 2 - 1\n",
        "    target = torch.abs(feat)\n",
        "    return feat, target\n",
        "\n",
        "Model.generate_batch = generate_batch  # Update the method in the Model class\n",
        "\n",
        "# Optimize the models and store the loss histories\n",
        "loss_histories = {}\n",
        "for name, model in models.items():\n",
        "    print(f\"Optimizing model {name}\")\n",
        "    loss_histories[name] = optimize(model, n_batch=1024, steps=10_000, print_freq=100, lr=1e-3, lr_scale=constant_lr)\n",
        "\n",
        "# Plot loss curves on the same graph\n",
        "for name, losses in loss_histories.items():\n",
        "    plt.plot(losses, label=name)\n",
        "plt.xlabel('Steps')\n",
        "plt.ylabel('Loss')\n",
        "plt.title('Loss vs Steps')\n",
        "plt.legend()\n",
        "plt.show()\n"
      ],
      "metadata": {
        "colab": {
          "base_uri": "https://localhost:8080/",
          "height": 0,
          "referenced_widgets": [
            "da8e15a0b1614e76b4d2d576dc232025",
            "22fa81103f5a432da84a8cae28f522ff",
            "c9c2e6a88de1459dbbc3d678dfac9772",
            "e49a095a7ea94be892cd7888ba629af2",
            "27db3c1d06cd40368535c4957172d892",
            "83a7b63f631f4daca7d282d8ddaff025",
            "44dac4824c5842248438e6559a27f135",
            "fc58dc9f11b443009e232bb91a21a71b",
            "a64239e80f7b468788a6efb947d1c830",
            "4e9436df251c49c7a64345db11b739fd",
            "b3b8806722ca4c3e9ae354cda634d799",
            "5e6896b2cd2a48c58118d8b572e2a624",
            "009988929e8a4c26a97844bf96768b01",
            "00da3d85e0ea47e3912019dccf080e79",
            "e1d521504e66416f9a0b640f2c014118",
            "0ef7cf3cc31446fe86bd505f0318adf5",
            "4fb789c0a05646f18f094e58806e9f09",
            "74451376bd0b4052baeca6edac97d5c7",
            "df1ebc756b8e4212bd282f0b80e324d0",
            "75a5b5af85fd48ca9e9e166af69abcb7",
            "a732940b07d74fcba82695c540d319a0",
            "316bb9a8653b415c8780253545ddf64a"
          ]
        },
        "id": "waFlNp50rAvk",
        "outputId": "21ddef91-95db-4674-a11f-b762f9eb3617"
      },
      "execution_count": 82,
      "outputs": [
        {
          "output_type": "stream",
          "name": "stdout",
          "text": [
            "Optimizing model ReLU\n"
          ]
        },
        {
          "output_type": "display_data",
          "data": {
            "text/plain": [
              "  0%|          | 0/10000 [00:00<?, ?it/s]"
            ],
            "application/vnd.jupyter.widget-view+json": {
              "version_major": 2,
              "version_minor": 0,
              "model_id": "da8e15a0b1614e76b4d2d576dc232025"
            }
          },
          "metadata": {}
        },
        {
          "output_type": "stream",
          "name": "stdout",
          "text": [
            "Optimizing model GeLU\n"
          ]
        },
        {
          "output_type": "display_data",
          "data": {
            "text/plain": [
              "  0%|          | 0/10000 [00:00<?, ?it/s]"
            ],
            "application/vnd.jupyter.widget-view+json": {
              "version_major": 2,
              "version_minor": 0,
              "model_id": "5e6896b2cd2a48c58118d8b572e2a624"
            }
          },
          "metadata": {}
        },
        {
          "output_type": "display_data",
          "data": {
            "text/plain": [
              "<Figure size 640x480 with 1 Axes>"
            ],
            "image/png": "[encoded data removed]"
          },
          "metadata": {}
        }
      ]
    },
    {
      "cell_type": "markdown",
      "source": [
        "###Visualize weights"
      ],
      "metadata": {
        "id": "gmXlvXGA3sID"
      }
    },
    {
      "cell_type": "code",
      "source": [
        "# Visualize W1, W2, and W_net for both models\n",
        "for name, model in models.items():\n",
        "    print(f\"Visualizing weights for model {name}\")\n",
        "    visualize_weights(model)\n",
        "    visualize_w_net(model)"
      ],
      "metadata": {
        "colab": {
          "base_uri": "https://localhost:8080/",
          "height": 0
        },
        "id": "Y6Fnr59zsSn3",
        "outputId": "fd8e27d6-fbac-4887-e4da-9b61aa26933f"
      },
      "execution_count": 83,
      "outputs": [
        {
          "output_type": "stream",
          "name": "stdout",
          "text": [
            "Visualizing weights for model ReLU\n"
          ]
        },
        {
          "output_type": "display_data",
          "data": {
            "text/plain": [
              "<Figure size 1200x500 with 4 Axes>"
            ],
            "image/png": "[encoded data removed]"
          },
          "metadata": {}
        },
        {
          "output_type": "display_data",
          "data": {
            "text/plain": [
              "<Figure size 800x600 with 2 Axes>"
            ],
            "image/png": "[encoded data removed]"
          },
          "metadata": {}
        },
        {
          "output_type": "stream",
          "name": "stdout",
          "text": [
            "Visualizing weights for model GeLU\n"
          ]
        },
        {
          "output_type": "display_data",
          "data": {
            "text/plain": [
              "<Figure size 1200x500 with 4 Axes>"
            ],
            "image/png": "[encoded data removed]"
          },
          "metadata": {}
        },
        {
          "output_type": "display_data",
          "data": {
            "text/plain": [
              "<Figure size 800x600 with 2 Axes>"
            ],
            "image/png": "[encoded data removed]"
          },
          "metadata": {}
        }
      ]
    },
    {
      "cell_type": "code",
      "source": [
        "# Visualize W_net for both models\n",
        "for name, model in models.items():\n",
        "    print(f\"Visualizing weights for model {name}\")\n",
        "    visualize_weights_stacked(model)\n"
      ],
      "metadata": {
        "colab": {
          "base_uri": "https://localhost:8080/",
          "height": 0
        },
        "id": "hsytt1COtve-",
        "outputId": "04b52b48-165f-4cdd-cd5e-e721f19c85d9"
      },
      "execution_count": 84,
      "outputs": [
        {
          "output_type": "stream",
          "name": "stdout",
          "text": [
            "Visualizing weights for model ReLU\n"
          ]
        },
        {
          "output_type": "display_data",
          "data": {
            "text/plain": [
              "<Figure size 1000x600 with 1 Axes>"
            ],
            "image/png": "[encoded data removed]"
          },
          "metadata": {}
        },
        {
          "output_type": "stream",
          "name": "stdout",
          "text": [
            "Visualizing weights for model GeLU\n"
          ]
        },
        {
          "output_type": "display_data",
          "data": {
            "text/plain": [
              "<Figure size 1000x600 with 1 Axes>"
            ],
            "image/png": "[encoded data removed]"
          },
          "metadata": {}
        }
      ]
    }
  ]
}